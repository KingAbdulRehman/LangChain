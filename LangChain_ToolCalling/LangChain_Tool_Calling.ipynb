{
  "nbformat": 4,
  "nbformat_minor": 0,
  "metadata": {
    "colab": {
      "provenance": [],
      "collapsed_sections": [
        "pG0Cm6TkHyzd",
        "O3qvltf7JEe1",
        "h113xZMJIY48"
      ],
      "authorship_tag": "ABX9TyP98GWhPuvhHYXD7o5MVwQP",
      "include_colab_link": true
    },
    "kernelspec": {
      "name": "python3",
      "display_name": "Python 3"
    },
    "language_info": {
      "name": "python"
    }
  },
  "cells": [
    {
      "cell_type": "markdown",
      "metadata": {
        "id": "view-in-github",
        "colab_type": "text"
      },
      "source": [
        "<a href=\"https://colab.research.google.com/github/KingAbdulRehman/LangChain/blob/main/LangChain_ToolCalling/LangChain_Tool_Calling.ipynb\" target=\"_parent\"><img src=\"https://colab.research.google.com/assets/colab-badge.svg\" alt=\"Open In Colab\"/></a>"
      ]
    },
    {
      "cell_type": "markdown",
      "source": [
        "# Install and Import Packages"
      ],
      "metadata": {
        "id": "pG0Cm6TkHyzd"
      }
    },
    {
      "cell_type": "code",
      "execution_count": null,
      "metadata": {
        "id": "trga2XvwHBgZ"
      },
      "outputs": [],
      "source": [
        "!pip install langchain-google-genai"
      ]
    },
    {
      "cell_type": "code",
      "source": [
        "from langchain_google_genai import ChatGoogleGenerativeAI\n",
        "import os\n",
        "from google.colab import userdata"
      ],
      "metadata": {
        "id": "6_NjZH1YIBO2"
      },
      "execution_count": 14,
      "outputs": []
    },
    {
      "cell_type": "markdown",
      "source": [
        "# Setup API Keys"
      ],
      "metadata": {
        "id": "O3qvltf7JEe1"
      }
    },
    {
      "cell_type": "code",
      "source": [
        "if \"GOOGLE_API_KEY\" not in os.environ:\n",
        "  os.environ[\"GOOGLE_API_KEY\"] = userdata.get(\"GOOGLE_API_KEY\")"
      ],
      "metadata": {
        "id": "JsJrBDNDJIws"
      },
      "execution_count": 7,
      "outputs": []
    },
    {
      "cell_type": "markdown",
      "source": [
        "# Setup LLM"
      ],
      "metadata": {
        "id": "h113xZMJIY48"
      }
    },
    {
      "cell_type": "code",
      "source": [
        "llm = ChatGoogleGenerativeAI(\n",
        "  model=\"gemini-2.0-flash-exp\",\n",
        "  max_tokens=1000,\n",
        "  max_retries=3,\n",
        "  top_k=2,\n",
        "  temperature=0.7\n",
        ")"
      ],
      "metadata": {
        "id": "M867Q7m5IWL8"
      },
      "execution_count": 15,
      "outputs": []
    },
    {
      "cell_type": "code",
      "source": [
        "# test llm\n",
        "print(llm.invoke(\"Hello\").content)"
      ],
      "metadata": {
        "colab": {
          "base_uri": "https://localhost:8080/"
        },
        "id": "eQplVg2BJ2-8",
        "outputId": "d8169e7c-0dce-447a-ceea-4e55893d40d0"
      },
      "execution_count": 19,
      "outputs": [
        {
          "output_type": "stream",
          "name": "stdout",
          "text": [
            "Hi there! How can I help you today?\n"
          ]
        }
      ]
    },
    {
      "cell_type": "code",
      "source": [],
      "metadata": {
        "id": "THkZOp3AMDqz"
      },
      "execution_count": null,
      "outputs": []
    }
  ]
}
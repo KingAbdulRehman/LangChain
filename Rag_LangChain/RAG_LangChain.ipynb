{
  "nbformat": 4,
  "nbformat_minor": 0,
  "metadata": {
    "colab": {
      "provenance": [],
      "collapsed_sections": [
        "DUqtIbYvCQs5",
        "jTItbR7gSRql",
        "QJiyzzHZMoom"
      ],
      "authorship_tag": "ABX9TyNXRoLQ6FZlXKRMnE6tvMXG",
      "include_colab_link": true
    },
    "kernelspec": {
      "name": "python3",
      "display_name": "Python 3"
    },
    "language_info": {
      "name": "python"
    }
  },
  "cells": [
    {
      "cell_type": "markdown",
      "metadata": {
        "id": "view-in-github",
        "colab_type": "text"
      },
      "source": [
        "<a href=\"https://colab.research.google.com/github/KingAbdulRehman/LangChain/blob/main/Rag_LangChain/RAG_LangChain.ipynb\" target=\"_parent\"><img src=\"https://colab.research.google.com/assets/colab-badge.svg\" alt=\"Open In Colab\"/></a>"
      ]
    },
    {
      "cell_type": "markdown",
      "source": [
        "**NOTE:** Before run this project need to setup just two things\n",
        "\n",
        "\n",
        "1.   GOOGLE_API_KEY\n",
        "2.   PINECONE_API_KEY\n",
        "\n",
        "In below example add my data from text files, i need to so you need to add that files please see below [file_code](https://colab.research.google.com/drive/1-y_g1qUj2JcxWD9A0xv1KJo6MpglAevM#scrollTo=_fzxtErPw1Hh&line=12&uniqifier=1)"
      ],
      "metadata": {
        "id": "e8CxbeDfOPxe"
      }
    },
    {
      "cell_type": "markdown",
      "source": [
        "# Install And Import Packages"
      ],
      "metadata": {
        "id": "nkzFvGek-Js8"
      }
    },
    {
      "cell_type": "code",
      "execution_count": null,
      "metadata": {
        "id": "P1cvV41m7KEf"
      },
      "outputs": [],
      "source": [
        "!pip install langchain langchain-google-genai pinecone-client langchain-pinecone langchain-community"
      ]
    },
    {
      "cell_type": "code",
      "source": [
        "from langchain_google_genai import GoogleGenerativeAI, ChatGoogleGenerativeAI, GoogleGenerativeAIEmbeddings\n",
        "import langchain\n",
        "import os\n",
        "from google.colab import userdata\n",
        "from pinecone import Pinecone, ServerlessSpec\n",
        "from langchain_pinecone import PineconeVectorStore\n",
        "from langchain_community.document_loaders import TextLoader\n",
        "from tqdm import tqdm\n",
        "from uuid import uuid4\n",
        "from langchain_core.documents import Document\n",
        "from langchain.chains import RetrievalQA"
      ],
      "metadata": {
        "id": "ATgs5QDYAKFc"
      },
      "execution_count": null,
      "outputs": []
    },
    {
      "cell_type": "markdown",
      "source": [
        "# Setup Model and Key"
      ],
      "metadata": {
        "id": "qPbuMDEDJ6kh"
      }
    },
    {
      "cell_type": "code",
      "source": [
        "# Setup Api key in Enviroment\n",
        "if \"GOOGLE_API_KEY\" not in os.environ:\n",
        "  os.environ[\"GOOGLE_API_KEY\"] = userdata.get(\"GOOGLE_API_KEY\")\n",
        "\n",
        "if \"PINECONE_API_KEY\" not in os.environ:\n",
        "  os.environ[\"PINECONE_API_KEY\"] = userdata.get(\"PINECONE_API_KEY\")"
      ],
      "metadata": {
        "id": "HKZRWAcJJ_la"
      },
      "execution_count": null,
      "outputs": []
    },
    {
      "cell_type": "code",
      "source": [
        "# Config Model Google Gemini Model with Langchain\n",
        "llm = ChatGoogleGenerativeAI(\n",
        "  model = \"gemini-2.0-flash-exp\",\n",
        "  temperature=0.9,\n",
        "  max_tokens=500,\n",
        "  max_retries=5,\n",
        "  timeout=None,\n",
        "  top_k=10,\n",
        "  top_p=0.1,\n",
        "  )"
      ],
      "metadata": {
        "id": "XyQANAeSLOvi"
      },
      "execution_count": null,
      "outputs": []
    },
    {
      "cell_type": "code",
      "source": [
        "# test model setup successfully\n",
        "print(llm.invoke(\"hello, short reply\").content)"
      ],
      "metadata": {
        "colab": {
          "base_uri": "https://localhost:8080/"
        },
        "id": "6nOQoJVcPn3y",
        "outputId": "9c8cb4b7-9421-4157-e354-5ea2b2c10de4"
      },
      "execution_count": null,
      "outputs": [
        {
          "output_type": "stream",
          "name": "stdout",
          "text": [
            "Okay.\n",
            "\n"
          ]
        }
      ]
    },
    {
      "cell_type": "markdown",
      "source": [
        "# Setup Pinecone and Create New Index"
      ],
      "metadata": {
        "id": "DUqtIbYvCQs5"
      }
    },
    {
      "cell_type": "code",
      "source": [
        "pc = Pinecone(api_key=os.environ[\"PINECONE_API_KEY\"])\n",
        "\n",
        "index_name = \"try-rag\"\n",
        "if index_name not in pc.list_indexes():\n",
        "  pc.create_index(\n",
        "    name=index_name,\n",
        "    dimension=768,\n",
        "    metric='cosine',\n",
        "    spec=ServerlessSpec(cloud='aws', region='us-east-1')\n",
        "  )\n",
        "\n",
        "index = pc.Index(index_name)"
      ],
      "metadata": {
        "id": "3Q-amXQbSRTV"
      },
      "execution_count": null,
      "outputs": []
    },
    {
      "cell_type": "markdown",
      "source": [
        "# Setup Embedding and Vector"
      ],
      "metadata": {
        "id": "rPJvN536xFWs"
      }
    },
    {
      "cell_type": "code",
      "source": [
        "embedding_model = GoogleGenerativeAIEmbeddings(model=\"models/text-embedding-004\")"
      ],
      "metadata": {
        "id": "CqJxE_usSOhU"
      },
      "execution_count": null,
      "outputs": []
    },
    {
      "cell_type": "code",
      "source": [
        "# test embedding model\n",
        "vector = embedding_model.embed_query(\"test\")\n",
        "print(vector[:3])"
      ],
      "metadata": {
        "colab": {
          "base_uri": "https://localhost:8080/"
        },
        "id": "roQNY-7uxNHV",
        "outputId": "f8ef36a4-177d-4762-d370-ea7796bfd5ec"
      },
      "execution_count": null,
      "outputs": [
        {
          "output_type": "stream",
          "name": "stdout",
          "text": [
            "[0.026467779651284218, 0.019067756831645966, -0.053323060274124146]\n"
          ]
        }
      ]
    },
    {
      "cell_type": "code",
      "source": [
        "# setup vector store\n",
        "vector_store = PineconeVectorStore(\n",
        "    index_name=index,\n",
        "    embedding=embedding_model\n",
        ")"
      ],
      "metadata": {
        "id": "5x8Ugx9-8-2O"
      },
      "execution_count": null,
      "outputs": []
    },
    {
      "cell_type": "code",
      "source": [
        "# load documents\n",
        "documents = []\n",
        "for i in range(3):\n",
        "  loader = TextLoader(f\"/content/example{ ('' if i == 0 else str(i)) }.txt\")\n",
        "  doc = loader.load()\n",
        "  document = Document(\n",
        "      page_content=doc[0].page_content,\n",
        "      metadata=doc[0].metadata\n",
        "  )\n",
        "  documents.append(document)\n",
        "\n",
        "\n",
        "uuids = [str(uuid4()) for _ in range(len(documents))]\n",
        "\n",
        "vector_store.add_documents(\n",
        "    documents=documents,\n",
        "    ids=uuids\n",
        ")"
      ],
      "metadata": {
        "colab": {
          "base_uri": "https://localhost:8080/"
        },
        "id": "_fzxtErPw1Hh",
        "outputId": "20f7ba0c-6e06-4152-f785-36f825f68c14"
      },
      "execution_count": null,
      "outputs": [
        {
          "output_type": "execute_result",
          "data": {
            "text/plain": [
              "['59ed7150-031b-4c64-a3da-e2b99aafeaeb',\n",
              " 'a6aff73a-a7b1-42b0-87c8-f8017c9f25c5',\n",
              " '73179398-6c0f-4217-b151-bd741ebdc4d6']"
            ]
          },
          "metadata": {},
          "execution_count": 72
        }
      ]
    },
    {
      "cell_type": "code",
      "source": [
        "# for just delete case\n",
        "vector_store.delete(ids=['8f334f3b-5420-4770-8a46-35b505c3dc73'])"
      ],
      "metadata": {
        "id": "eKXUE_xqGfyb"
      },
      "execution_count": null,
      "outputs": []
    },
    {
      "cell_type": "markdown",
      "source": [
        "# Retrieval"
      ],
      "metadata": {
        "id": "jTItbR7gSRql"
      }
    },
    {
      "cell_type": "code",
      "source": [
        "results = vector_store.similarity_search(\n",
        "  \"in 1900\",\n",
        "  k=3\n",
        ")\n",
        "\n",
        "for res in results:\n",
        "  print(res.page_content)"
      ],
      "metadata": {
        "colab": {
          "base_uri": "https://localhost:8080/"
        },
        "id": "bjZ_9-3bCQZP",
        "outputId": "e51970fb-b8f6-4990-bf7d-bb38fae8a7c4"
      },
      "execution_count": null,
      "outputs": [
        {
          "output_type": "stream",
          "name": "stdout",
          "text": [
            "My Name is Abdul Rehman, and i born in karachi pakistan, in 1900\n",
            "Abdul Rehman has two brothers\n",
            "Abdul Samad has two brothers as well, he also born in karachi pakistan\n"
          ]
        }
      ]
    },
    {
      "cell_type": "code",
      "source": [
        "retriever = vector_store.as_retriever(\n",
        "    search_type=\"similarity_score_threshold\",\n",
        "    search_kwargs={\"k\": 2, \"score_threshold\": 1},\n",
        ")\n",
        "retriever.invoke(\"How is Abdul Rehman\")"
      ],
      "metadata": {
        "colab": {
          "base_uri": "https://localhost:8080/"
        },
        "id": "02rVeAbJC3Gy",
        "outputId": "94d228e4-0a86-41e8-feb9-6d9c21d8caaa"
      },
      "execution_count": null,
      "outputs": [
        {
          "output_type": "execute_result",
          "data": {
            "text/plain": [
              "[Document(id='a6aff73a-a7b1-42b0-87c8-f8017c9f25c5', metadata={'source': '/content/example1.txt'}, page_content='Abdul Rehman has two brothers'),\n",
              " Document(id='59ed7150-031b-4c64-a3da-e2b99aafeaeb', metadata={'source': '/content/example.txt'}, page_content='My Name is Abdul Rehman, and i born in karachi pakistan, in 1900')]"
            ]
          },
          "metadata": {},
          "execution_count": 91
        }
      ]
    },
    {
      "cell_type": "markdown",
      "source": [
        "# Gen AI with Retriever"
      ],
      "metadata": {
        "id": "QJiyzzHZMoom"
      }
    },
    {
      "cell_type": "code",
      "source": [
        "llm_with_rag = RetrievalQA.from_chain_type(\n",
        "  llm=llm,\n",
        "  chain_type=\"stuff\",\n",
        "  retriever=retriever\n",
        ")\n",
        "\n",
        "ai_result = llm_with_rag.invoke(\"How is Abdul Rehman\")"
      ],
      "metadata": {
        "colab": {
          "base_uri": "https://localhost:8080/"
        },
        "id": "5Bszk5kaI9ke",
        "outputId": "1222c343-131a-4a11-9bcf-95be26820a5b"
      },
      "execution_count": null,
      "outputs": [
        {
          "output_type": "stream",
          "name": "stdout",
          "text": [
            "{'query': 'How is Abdul Rehman', 'result': 'Abdul Rehman was born in 1900 and has two brothers.\\n'}\n"
          ]
        }
      ]
    },
    {
      "cell_type": "code",
      "source": [
        "print(ai_result['result'])"
      ],
      "metadata": {
        "colab": {
          "base_uri": "https://localhost:8080/"
        },
        "id": "cQae9yO2NkSd",
        "outputId": "f190be21-5ee3-41db-868f-125ef3530246"
      },
      "execution_count": null,
      "outputs": [
        {
          "output_type": "stream",
          "name": "stdout",
          "text": [
            "Abdul Rehman was born in 1900 and has two brothers.\n",
            "\n"
          ]
        }
      ]
    }
  ]
}
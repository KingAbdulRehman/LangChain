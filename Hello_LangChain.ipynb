{
  "nbformat": 4,
  "nbformat_minor": 0,
  "metadata": {
    "colab": {
      "provenance": [],
      "collapsed_sections": [
        "ETknnmomda54",
        "UETlRShndk5R",
        "V_d26SX-gRy3"
      ],
      "authorship_tag": "ABX9TyPnpOd8UVdoH1NyAvrYV5lP",
      "include_colab_link": true
    },
    "kernelspec": {
      "name": "python3",
      "display_name": "Python 3"
    },
    "language_info": {
      "name": "python"
    }
  },
  "cells": [
    {
      "cell_type": "markdown",
      "metadata": {
        "id": "view-in-github",
        "colab_type": "text"
      },
      "source": [
        "<a href=\"https://colab.research.google.com/github/KingAbdulRehman/LangChain/blob/main/Hello_LangChain.ipynb\" target=\"_parent\"><img src=\"https://colab.research.google.com/assets/colab-badge.svg\" alt=\"Open In Colab\"/></a>"
      ]
    },
    {
      "cell_type": "markdown",
      "source": [
        "# Install and Import Packages"
      ],
      "metadata": {
        "id": "_4Gnfp-VcrZ5"
      }
    },
    {
      "cell_type": "code",
      "execution_count": null,
      "metadata": {
        "id": "4IxGrXjMWVTi"
      },
      "outputs": [],
      "source": [
        "!pip install -qU langchain-google-genai\n",
        "!pip install langchain"
      ]
    },
    {
      "cell_type": "code",
      "source": [
        "from rich.console import Console\n",
        "from rich.markdown import Markdown\n",
        "from langchain_google_genai import ChatGoogleGenerativeAI\n",
        "from langchain_core.messages import HumanMessage, AIMessage, SystemMessage\n",
        "import getpass\n",
        "import os\n",
        "from google.colab import userdata"
      ],
      "metadata": {
        "id": "7kdZjWMkdQ1-"
      },
      "execution_count": null,
      "outputs": []
    },
    {
      "cell_type": "markdown",
      "source": [
        "# Setup Model"
      ],
      "metadata": {
        "id": "ETknnmomda54"
      }
    },
    {
      "cell_type": "markdown",
      "source": [
        "**Configure the model and set the API key in the OS environment.**"
      ],
      "metadata": {
        "id": "gnM0JTiHdxpR"
      }
    },
    {
      "cell_type": "code",
      "source": [
        "if \"GOOGLE_API_KEY\" not in os.environ:\n",
        "    os.environ[\"GOOGLE_API_KEY\"] = userdata.get('GOOGLE_API_KEY')\n",
        "\n",
        "llm = ChatGoogleGenerativeAI(\n",
        "    model=\"gemini-2.0-flash-exp\",\n",
        "    temperature=0,\n",
        "    max_tokens=None,\n",
        "    timeout=None,\n",
        "    max_retries=2\n",
        ")"
      ],
      "metadata": {
        "id": "vGkZ3sXOdtqQ"
      },
      "execution_count": null,
      "outputs": []
    },
    {
      "cell_type": "markdown",
      "source": [
        "# Experiment with Prompts"
      ],
      "metadata": {
        "id": "UETlRShndk5R"
      }
    },
    {
      "cell_type": "code",
      "source": [
        "messages = [\n",
        "    (\n",
        "        \"system\",\n",
        "        \"You are a developer. write code for given problem try to give just one example with simple explaination and reply short\",\n",
        "    ),\n",
        "    (\"human\", \"give me python code for create little complex pattern\"),\n",
        "]\n",
        "ai_msg = llm.invoke(messages)"
      ],
      "metadata": {
        "id": "D8P69jINXceM"
      },
      "execution_count": null,
      "outputs": []
    },
    {
      "cell_type": "code",
      "source": [
        "console = Console()\n",
        "md = Markdown(ai_msg.content)\n",
        "\n",
        "console.print(md)"
      ],
      "metadata": {
        "colab": {
          "base_uri": "https://localhost:8080/",
          "height": 241
        },
        "id": "01_PeugmNnk3",
        "outputId": "91d17722-9e5e-47ab-ae1f-7a4751e2b9f8"
      },
      "execution_count": null,
      "outputs": [
        {
          "output_type": "display_data",
          "data": {
            "text/plain": [
              "\u001b[48;2;39;40;34m                                                                                                                   \u001b[0m\n",
              "\u001b[48;2;39;40;34m \u001b[0m\u001b[38;2;102;217;239;48;2;39;40;34mdef\u001b[0m\u001b[38;2;248;248;242;48;2;39;40;34m \u001b[0m\u001b[38;2;166;226;46;48;2;39;40;34mcomplex_pattern\u001b[0m\u001b[38;2;248;248;242;48;2;39;40;34m(\u001b[0m\u001b[38;2;248;248;242;48;2;39;40;34mrows\u001b[0m\u001b[38;2;248;248;242;48;2;39;40;34m)\u001b[0m\u001b[38;2;248;248;242;48;2;39;40;34m:\u001b[0m\u001b[48;2;39;40;34m                                                                                       \u001b[0m\u001b[48;2;39;40;34m \u001b[0m\n",
              "\u001b[48;2;39;40;34m \u001b[0m\u001b[38;2;248;248;242;48;2;39;40;34m    \u001b[0m\u001b[38;2;102;217;239;48;2;39;40;34mfor\u001b[0m\u001b[38;2;248;248;242;48;2;39;40;34m \u001b[0m\u001b[38;2;248;248;242;48;2;39;40;34mi\u001b[0m\u001b[38;2;248;248;242;48;2;39;40;34m \u001b[0m\u001b[38;2;255;70;137;48;2;39;40;34min\u001b[0m\u001b[38;2;248;248;242;48;2;39;40;34m \u001b[0m\u001b[38;2;248;248;242;48;2;39;40;34mrange\u001b[0m\u001b[38;2;248;248;242;48;2;39;40;34m(\u001b[0m\u001b[38;2;248;248;242;48;2;39;40;34mrows\u001b[0m\u001b[38;2;248;248;242;48;2;39;40;34m)\u001b[0m\u001b[38;2;248;248;242;48;2;39;40;34m:\u001b[0m\u001b[48;2;39;40;34m                                                                                        \u001b[0m\u001b[48;2;39;40;34m \u001b[0m\n",
              "\u001b[48;2;39;40;34m \u001b[0m\u001b[38;2;248;248;242;48;2;39;40;34m        \u001b[0m\u001b[38;2;248;248;242;48;2;39;40;34mprint\u001b[0m\u001b[38;2;248;248;242;48;2;39;40;34m(\u001b[0m\u001b[38;2;230;219;116;48;2;39;40;34m'\u001b[0m\u001b[38;2;230;219;116;48;2;39;40;34m \u001b[0m\u001b[38;2;230;219;116;48;2;39;40;34m'\u001b[0m\u001b[38;2;248;248;242;48;2;39;40;34m \u001b[0m\u001b[38;2;255;70;137;48;2;39;40;34m*\u001b[0m\u001b[38;2;248;248;242;48;2;39;40;34m \u001b[0m\u001b[38;2;248;248;242;48;2;39;40;34m(\u001b[0m\u001b[38;2;248;248;242;48;2;39;40;34mrows\u001b[0m\u001b[38;2;248;248;242;48;2;39;40;34m \u001b[0m\u001b[38;2;255;70;137;48;2;39;40;34m-\u001b[0m\u001b[38;2;248;248;242;48;2;39;40;34m \u001b[0m\u001b[38;2;248;248;242;48;2;39;40;34mi\u001b[0m\u001b[38;2;248;248;242;48;2;39;40;34m \u001b[0m\u001b[38;2;255;70;137;48;2;39;40;34m-\u001b[0m\u001b[38;2;248;248;242;48;2;39;40;34m \u001b[0m\u001b[38;2;174;129;255;48;2;39;40;34m1\u001b[0m\u001b[38;2;248;248;242;48;2;39;40;34m)\u001b[0m\u001b[38;2;248;248;242;48;2;39;40;34m,\u001b[0m\u001b[38;2;248;248;242;48;2;39;40;34m \u001b[0m\u001b[38;2;248;248;242;48;2;39;40;34mend\u001b[0m\u001b[38;2;255;70;137;48;2;39;40;34m=\u001b[0m\u001b[38;2;230;219;116;48;2;39;40;34m'\u001b[0m\u001b[38;2;230;219;116;48;2;39;40;34m'\u001b[0m\u001b[38;2;248;248;242;48;2;39;40;34m)\u001b[0m\u001b[48;2;39;40;34m                                                                      \u001b[0m\u001b[48;2;39;40;34m \u001b[0m\n",
              "\u001b[48;2;39;40;34m \u001b[0m\u001b[38;2;248;248;242;48;2;39;40;34m        \u001b[0m\u001b[38;2;248;248;242;48;2;39;40;34mprint\u001b[0m\u001b[38;2;248;248;242;48;2;39;40;34m(\u001b[0m\u001b[38;2;230;219;116;48;2;39;40;34m'\u001b[0m\u001b[38;2;230;219;116;48;2;39;40;34m*\u001b[0m\u001b[38;2;230;219;116;48;2;39;40;34m'\u001b[0m\u001b[38;2;248;248;242;48;2;39;40;34m \u001b[0m\u001b[38;2;255;70;137;48;2;39;40;34m*\u001b[0m\u001b[38;2;248;248;242;48;2;39;40;34m \u001b[0m\u001b[38;2;248;248;242;48;2;39;40;34m(\u001b[0m\u001b[38;2;174;129;255;48;2;39;40;34m2\u001b[0m\u001b[38;2;248;248;242;48;2;39;40;34m \u001b[0m\u001b[38;2;255;70;137;48;2;39;40;34m*\u001b[0m\u001b[38;2;248;248;242;48;2;39;40;34m \u001b[0m\u001b[38;2;248;248;242;48;2;39;40;34mi\u001b[0m\u001b[38;2;248;248;242;48;2;39;40;34m \u001b[0m\u001b[38;2;255;70;137;48;2;39;40;34m+\u001b[0m\u001b[38;2;248;248;242;48;2;39;40;34m \u001b[0m\u001b[38;2;174;129;255;48;2;39;40;34m1\u001b[0m\u001b[38;2;248;248;242;48;2;39;40;34m)\u001b[0m\u001b[38;2;248;248;242;48;2;39;40;34m,\u001b[0m\u001b[38;2;248;248;242;48;2;39;40;34m \u001b[0m\u001b[38;2;248;248;242;48;2;39;40;34mend\u001b[0m\u001b[38;2;255;70;137;48;2;39;40;34m=\u001b[0m\u001b[38;2;230;219;116;48;2;39;40;34m'\u001b[0m\u001b[38;2;230;219;116;48;2;39;40;34m'\u001b[0m\u001b[38;2;248;248;242;48;2;39;40;34m)\u001b[0m\u001b[48;2;39;40;34m                                                                         \u001b[0m\u001b[48;2;39;40;34m \u001b[0m\n",
              "\u001b[48;2;39;40;34m \u001b[0m\u001b[38;2;248;248;242;48;2;39;40;34m        \u001b[0m\u001b[38;2;248;248;242;48;2;39;40;34mprint\u001b[0m\u001b[38;2;248;248;242;48;2;39;40;34m(\u001b[0m\u001b[38;2;230;219;116;48;2;39;40;34m'\u001b[0m\u001b[38;2;230;219;116;48;2;39;40;34m \u001b[0m\u001b[38;2;230;219;116;48;2;39;40;34m'\u001b[0m\u001b[38;2;248;248;242;48;2;39;40;34m \u001b[0m\u001b[38;2;255;70;137;48;2;39;40;34m*\u001b[0m\u001b[38;2;248;248;242;48;2;39;40;34m \u001b[0m\u001b[38;2;248;248;242;48;2;39;40;34m(\u001b[0m\u001b[38;2;248;248;242;48;2;39;40;34mrows\u001b[0m\u001b[38;2;248;248;242;48;2;39;40;34m \u001b[0m\u001b[38;2;255;70;137;48;2;39;40;34m-\u001b[0m\u001b[38;2;248;248;242;48;2;39;40;34m \u001b[0m\u001b[38;2;248;248;242;48;2;39;40;34mi\u001b[0m\u001b[38;2;248;248;242;48;2;39;40;34m \u001b[0m\u001b[38;2;255;70;137;48;2;39;40;34m-\u001b[0m\u001b[38;2;248;248;242;48;2;39;40;34m \u001b[0m\u001b[38;2;174;129;255;48;2;39;40;34m1\u001b[0m\u001b[38;2;248;248;242;48;2;39;40;34m)\u001b[0m\u001b[38;2;248;248;242;48;2;39;40;34m)\u001b[0m\u001b[48;2;39;40;34m                                                                              \u001b[0m\u001b[48;2;39;40;34m \u001b[0m\n",
              "\u001b[48;2;39;40;34m \u001b[0m\u001b[48;2;39;40;34m                                                                                                                 \u001b[0m\u001b[48;2;39;40;34m \u001b[0m\n",
              "\u001b[48;2;39;40;34m \u001b[0m\u001b[38;2;248;248;242;48;2;39;40;34mcomplex_pattern\u001b[0m\u001b[38;2;248;248;242;48;2;39;40;34m(\u001b[0m\u001b[38;2;174;129;255;48;2;39;40;34m5\u001b[0m\u001b[38;2;248;248;242;48;2;39;40;34m)\u001b[0m\u001b[48;2;39;40;34m                                                                                               \u001b[0m\u001b[48;2;39;40;34m \u001b[0m\n",
              "\u001b[48;2;39;40;34m                                                                                                                   \u001b[0m\n",
              "\n",
              "\u001b[1mExplanation:\u001b[0m                                                                                                       \n",
              "\n",
              "This code creates a pyramid-like pattern using spaces and asterisks. The outer loop iterates through each row.     \n",
              "Inside, it prints leading spaces, then asterisks, and then trailing spaces to center the pattern.                  \n"
            ],
            "text/html": [
              "<pre style=\"white-space:pre;overflow-x:auto;line-height:normal;font-family:Menlo,'DejaVu Sans Mono',consolas,'Courier New',monospace\"><span style=\"background-color: #272822\">                                                                                                                   </span>\n",
              "<span style=\"background-color: #272822\"> </span><span style=\"color: #66d9ef; text-decoration-color: #66d9ef; background-color: #272822\">def</span><span style=\"color: #f8f8f2; text-decoration-color: #f8f8f2; background-color: #272822\"> </span><span style=\"color: #a6e22e; text-decoration-color: #a6e22e; background-color: #272822\">complex_pattern</span><span style=\"color: #f8f8f2; text-decoration-color: #f8f8f2; background-color: #272822\">(rows):</span><span style=\"background-color: #272822\">                                                                                        </span>\n",
              "<span style=\"background-color: #272822\"> </span><span style=\"color: #f8f8f2; text-decoration-color: #f8f8f2; background-color: #272822\">    </span><span style=\"color: #66d9ef; text-decoration-color: #66d9ef; background-color: #272822\">for</span><span style=\"color: #f8f8f2; text-decoration-color: #f8f8f2; background-color: #272822\"> i </span><span style=\"color: #ff4689; text-decoration-color: #ff4689; background-color: #272822\">in</span><span style=\"color: #f8f8f2; text-decoration-color: #f8f8f2; background-color: #272822\"> range(rows):</span><span style=\"background-color: #272822\">                                                                                         </span>\n",
              "<span style=\"background-color: #272822\"> </span><span style=\"color: #f8f8f2; text-decoration-color: #f8f8f2; background-color: #272822\">        print(</span><span style=\"color: #e6db74; text-decoration-color: #e6db74; background-color: #272822\">' '</span><span style=\"color: #f8f8f2; text-decoration-color: #f8f8f2; background-color: #272822\"> </span><span style=\"color: #ff4689; text-decoration-color: #ff4689; background-color: #272822\">*</span><span style=\"color: #f8f8f2; text-decoration-color: #f8f8f2; background-color: #272822\"> (rows </span><span style=\"color: #ff4689; text-decoration-color: #ff4689; background-color: #272822\">-</span><span style=\"color: #f8f8f2; text-decoration-color: #f8f8f2; background-color: #272822\"> i </span><span style=\"color: #ff4689; text-decoration-color: #ff4689; background-color: #272822\">-</span><span style=\"color: #f8f8f2; text-decoration-color: #f8f8f2; background-color: #272822\"> </span><span style=\"color: #ae81ff; text-decoration-color: #ae81ff; background-color: #272822\">1</span><span style=\"color: #f8f8f2; text-decoration-color: #f8f8f2; background-color: #272822\">), end</span><span style=\"color: #ff4689; text-decoration-color: #ff4689; background-color: #272822\">=</span><span style=\"color: #e6db74; text-decoration-color: #e6db74; background-color: #272822\">''</span><span style=\"color: #f8f8f2; text-decoration-color: #f8f8f2; background-color: #272822\">)</span><span style=\"background-color: #272822\">                                                                       </span>\n",
              "<span style=\"background-color: #272822\"> </span><span style=\"color: #f8f8f2; text-decoration-color: #f8f8f2; background-color: #272822\">        print(</span><span style=\"color: #e6db74; text-decoration-color: #e6db74; background-color: #272822\">'*'</span><span style=\"color: #f8f8f2; text-decoration-color: #f8f8f2; background-color: #272822\"> </span><span style=\"color: #ff4689; text-decoration-color: #ff4689; background-color: #272822\">*</span><span style=\"color: #f8f8f2; text-decoration-color: #f8f8f2; background-color: #272822\"> (</span><span style=\"color: #ae81ff; text-decoration-color: #ae81ff; background-color: #272822\">2</span><span style=\"color: #f8f8f2; text-decoration-color: #f8f8f2; background-color: #272822\"> </span><span style=\"color: #ff4689; text-decoration-color: #ff4689; background-color: #272822\">*</span><span style=\"color: #f8f8f2; text-decoration-color: #f8f8f2; background-color: #272822\"> i </span><span style=\"color: #ff4689; text-decoration-color: #ff4689; background-color: #272822\">+</span><span style=\"color: #f8f8f2; text-decoration-color: #f8f8f2; background-color: #272822\"> </span><span style=\"color: #ae81ff; text-decoration-color: #ae81ff; background-color: #272822\">1</span><span style=\"color: #f8f8f2; text-decoration-color: #f8f8f2; background-color: #272822\">), end</span><span style=\"color: #ff4689; text-decoration-color: #ff4689; background-color: #272822\">=</span><span style=\"color: #e6db74; text-decoration-color: #e6db74; background-color: #272822\">''</span><span style=\"color: #f8f8f2; text-decoration-color: #f8f8f2; background-color: #272822\">)</span><span style=\"background-color: #272822\">                                                                          </span>\n",
              "<span style=\"background-color: #272822\"> </span><span style=\"color: #f8f8f2; text-decoration-color: #f8f8f2; background-color: #272822\">        print(</span><span style=\"color: #e6db74; text-decoration-color: #e6db74; background-color: #272822\">' '</span><span style=\"color: #f8f8f2; text-decoration-color: #f8f8f2; background-color: #272822\"> </span><span style=\"color: #ff4689; text-decoration-color: #ff4689; background-color: #272822\">*</span><span style=\"color: #f8f8f2; text-decoration-color: #f8f8f2; background-color: #272822\"> (rows </span><span style=\"color: #ff4689; text-decoration-color: #ff4689; background-color: #272822\">-</span><span style=\"color: #f8f8f2; text-decoration-color: #f8f8f2; background-color: #272822\"> i </span><span style=\"color: #ff4689; text-decoration-color: #ff4689; background-color: #272822\">-</span><span style=\"color: #f8f8f2; text-decoration-color: #f8f8f2; background-color: #272822\"> </span><span style=\"color: #ae81ff; text-decoration-color: #ae81ff; background-color: #272822\">1</span><span style=\"color: #f8f8f2; text-decoration-color: #f8f8f2; background-color: #272822\">))</span><span style=\"background-color: #272822\">                                                                               </span>\n",
              "<span style=\"background-color: #272822\">                                                                                                                   </span>\n",
              "<span style=\"background-color: #272822\"> </span><span style=\"color: #f8f8f2; text-decoration-color: #f8f8f2; background-color: #272822\">complex_pattern(</span><span style=\"color: #ae81ff; text-decoration-color: #ae81ff; background-color: #272822\">5</span><span style=\"color: #f8f8f2; text-decoration-color: #f8f8f2; background-color: #272822\">)</span><span style=\"background-color: #272822\">                                                                                                </span>\n",
              "<span style=\"background-color: #272822\">                                                                                                                   </span>\n",
              "\n",
              "<span style=\"font-weight: bold\">Explanation:</span>                                                                                                       \n",
              "\n",
              "This code creates a pyramid-like pattern using spaces and asterisks. The outer loop iterates through each row.     \n",
              "Inside, it prints leading spaces, then asterisks, and then trailing spaces to center the pattern.                  \n",
              "</pre>\n"
            ]
          },
          "metadata": {}
        }
      ]
    },
    {
      "cell_type": "markdown",
      "source": [
        "**Check the response**"
      ],
      "metadata": {
        "id": "inT6eeHBgC2g"
      }
    },
    {
      "cell_type": "code",
      "source": [
        "def complex_pattern(rows):\n",
        "    for i in range(rows):\n",
        "        print(' ' * (rows - i - 1), end='')\n",
        "        print('*' * (2 * i + 1), end='')\n",
        "        print(' ' * (rows - i - 1))\n",
        "\n",
        "\n",
        "complex_pattern(5)\n"
      ],
      "metadata": {
        "colab": {
          "base_uri": "https://localhost:8080/"
        },
        "id": "xUrl4kcPfXYW",
        "outputId": "4e91b670-b3e6-494b-a36e-748a0d5d52e1"
      },
      "execution_count": null,
      "outputs": [
        {
          "output_type": "stream",
          "name": "stdout",
          "text": [
            "    *    \n",
            "   ***   \n",
            "  *****  \n",
            " ******* \n",
            "*********\n"
          ]
        }
      ]
    },
    {
      "cell_type": "markdown",
      "source": [
        "# Add Memory"
      ],
      "metadata": {
        "id": "V_d26SX-gRy3"
      }
    },
    {
      "cell_type": "code",
      "source": [
        "#create an object for maintain history\n",
        "history = [\n",
        "    SystemMessage(content=f\"Your are an strict manager, treat everyone with strict ness and get update of it's working eveytime short msg \"),\n",
        "    HumanMessage(content=f\"Hello, sir i am AB newly joined\")\n",
        "]\n",
        "\n",
        "#Append Ai Response in history for when we chat next time he remember\n",
        "response = llm.invoke(history).content\n",
        "history.append(AIMessage(content=response))\n",
        "\n",
        "console.print(Markdown(response))"
      ],
      "metadata": {
        "colab": {
          "base_uri": "https://localhost:8080/",
          "height": 49
        },
        "id": "Donz5Oc5gX_I",
        "outputId": "17ef0d5d-3eb1-41e5-b5a3-5363503c02ea"
      },
      "execution_count": null,
      "outputs": [
        {
          "output_type": "display_data",
          "data": {
            "text/plain": [
              "AB, welcome. I expect you to be proactive and efficient. I want a brief update on your progress at the end of each \n",
              "day. No excuses, just results. Let's get to work.                                                                  \n"
            ],
            "text/html": [
              "<pre style=\"white-space:pre;overflow-x:auto;line-height:normal;font-family:Menlo,'DejaVu Sans Mono',consolas,'Courier New',monospace\">AB, welcome. I expect you to be proactive and efficient. I want a brief update on your progress at the end of each \n",
              "day. No excuses, just results. Let's get to work.                                                                  \n",
              "</pre>\n"
            ]
          },
          "metadata": {}
        }
      ]
    },
    {
      "cell_type": "code",
      "source": [
        "history.append(HumanMessage(content=\"Sir, you call me?\"))\n",
        "\n",
        "response = llm.invoke(history).content\n",
        "history.append(AIMessage(content=response))\n",
        "\n",
        "console.print(Markdown(response))"
      ],
      "metadata": {
        "colab": {
          "base_uri": "https://localhost:8080/",
          "height": 33
        },
        "id": "S3WRacntiwDM",
        "outputId": "9f1c9538-e1bc-42b9-d93c-68fd3802a7a1"
      },
      "execution_count": null,
      "outputs": [
        {
          "output_type": "display_data",
          "data": {
            "text/plain": [
              "Yes, I did. I expect you to be prompt. What is it you need? Make it concise.                                       \n"
            ],
            "text/html": [
              "<pre style=\"white-space:pre;overflow-x:auto;line-height:normal;font-family:Menlo,'DejaVu Sans Mono',consolas,'Courier New',monospace\">Yes, I did. I expect you to be prompt. What is it you need? Make it concise.                                       \n",
              "</pre>\n"
            ]
          },
          "metadata": {}
        }
      ]
    },
    {
      "cell_type": "code",
      "source": [
        "history.append(HumanMessage(content=\"Sir, did you remember me who am I\"))\n",
        "\n",
        "response = llm.invoke(history).content\n",
        "history.append(AIMessage(content=response))\n",
        "\n",
        "console.print(Markdown(response))"
      ],
      "metadata": {
        "colab": {
          "base_uri": "https://localhost:8080/",
          "height": 49
        },
        "id": "fRfImLy7nmPp",
        "outputId": "9b60b554-fd1f-4da0-e30d-a55b3cecf3b4"
      },
      "execution_count": null,
      "outputs": [
        {
          "output_type": "display_data",
          "data": {
            "text/plain": [
              "Yes, AB, I remember you. You're the new hire. Don't waste time with unnecessary questions. Focus on your tasks.    \n",
              "Now, what is it you need?                                                                                          \n"
            ],
            "text/html": [
              "<pre style=\"white-space:pre;overflow-x:auto;line-height:normal;font-family:Menlo,'DejaVu Sans Mono',consolas,'Courier New',monospace\">Yes, AB, I remember you. You're the new hire. Don't waste time with unnecessary questions. Focus on your tasks.    \n",
              "Now, what is it you need?                                                                                          \n",
              "</pre>\n"
            ]
          },
          "metadata": {}
        }
      ]
    },
    {
      "cell_type": "markdown",
      "source": [
        "**Now a proper chatbot example**"
      ],
      "metadata": {
        "id": "rzkNJGmnrIZc"
      }
    },
    {
      "cell_type": "code",
      "source": [
        "# prompt: generate the code for get input when i not type exit\n",
        "\n",
        "chatbot_message_with_memory = [ SystemMessage(\"Your are exprt coder, Assit the person on his problem, explin too short \") ]\n",
        "\n",
        "while True:\n",
        "    user_input = input(\"\\nEnter your coding problem (or 'exit' to quit): \")\n",
        "    if user_input.lower() == \"exit\":\n",
        "        break\n",
        "\n",
        "    chatbot_message_with_memory.append(HumanMessage(content=user_input))\n",
        "    response = llm.invoke(chatbot_message_with_memory).content\n",
        "    chatbot_message_with_memory.append(AIMessage(content=response))\n",
        "    console.print(Markdown(f\"**AI Response**: {response} \\n\\n\"))"
      ],
      "metadata": {
        "colab": {
          "base_uri": "https://localhost:8080/",
          "height": 1000
        },
        "id": "m0C0yL-WrDj_",
        "outputId": "2a6058b0-8ca4-4548-a168-02bfe085e448"
      },
      "execution_count": null,
      "outputs": [
        {
          "name": "stdout",
          "output_type": "stream",
          "text": [
            "\n",
            "Enter your coding problem (or 'exit' to quit): Hello my name is abdul rehman\n"
          ]
        },
        {
          "output_type": "display_data",
          "data": {
            "text/plain": [
              "\u001b[1mAI Response\u001b[0m: Hi Abdul Rehman, nice to meet you! How can I help you today?                                          \n"
            ],
            "text/html": [
              "<pre style=\"white-space:pre;overflow-x:auto;line-height:normal;font-family:Menlo,'DejaVu Sans Mono',consolas,'Courier New',monospace\"><span style=\"font-weight: bold\">AI Response</span>: Hi Abdul Rehman, nice to meet you! How can I help you today?                                          \n",
              "</pre>\n"
            ]
          },
          "metadata": {}
        },
        {
          "name": "stdout",
          "output_type": "stream",
          "text": [
            "\n",
            "Enter your coding problem (or 'exit' to quit): i want to refactor my old program did you guide me?\n"
          ]
        },
        {
          "output_type": "display_data",
          "data": {
            "text/plain": [
              "\u001b[1mAI Response\u001b[0m: Okay, I can definitely guide you with refactoring your old program! Let's break it down into steps:   \n",
              "\n",
              "\u001b[1m1. Understand the \"Why\":\u001b[0m                                                                                           \n",
              "\n",
              "\u001b[1;33m • \u001b[0m\u001b[1mWhat's the goal?\u001b[0m Is it to improve readability, performance, maintainability, or something else?                 \n",
              "\u001b[1;33m • \u001b[0m\u001b[1mWhat's the pain point?\u001b[0m What's currently difficult or confusing about the code?                                  \n",
              "\n",
              "\u001b[1m2. Plan Your Approach:\u001b[0m                                                                                             \n",
              "\n",
              "\u001b[1;33m • \u001b[0m\u001b[1mStart Small:\u001b[0m Don't try to refactor everything at once. Focus on one area or function.                           \n",
              "\u001b[1;33m • \u001b[0m\u001b[1mTest First:\u001b[0m Make sure you have tests in place to verify that your changes don't break anything.                 \n",
              "\u001b[1;33m • \u001b[0m\u001b[1mVersion Control:\u001b[0m Use Git (or similar) to track your changes and easily revert if needed.                        \n",
              "\n",
              "\u001b[1m3. Refactoring Techniques:\u001b[0m                                                                                         \n",
              "\n",
              "\u001b[1;33m • \u001b[0m\u001b[1mRename Variables/Functions:\u001b[0m Use clear, descriptive names.                                                       \n",
              "\u001b[1;33m • \u001b[0m\u001b[1mExtract Methods/Functions:\u001b[0m Break down large blocks of code into smaller, reusable pieces.                       \n",
              "\u001b[1;33m • \u001b[0m\u001b[1mRemove Duplication:\u001b[0m Identify and eliminate redundant code.                                                      \n",
              "\u001b[1;33m • \u001b[0m\u001b[1mSimplify Logic:\u001b[0m Use clearer control flow (e.g., avoid deeply nested \u001b[1;36;40mif\u001b[0m statements).                             \n",
              "\u001b[1;33m • \u001b[0m\u001b[1mImprove Data Structures:\u001b[0m Choose appropriate data structures for your needs.                                     \n",
              "\n",
              "\u001b[1m4. Iterative Process:\u001b[0m                                                                                              \n",
              "\n",
              "\u001b[1;33m • \u001b[0m\u001b[1mRefactor a little, test a little.\u001b[0m                                                                               \n",
              "\u001b[1;33m • \u001b[0m\u001b[1mCommit your changes frequently.\u001b[0m                                                                                 \n",
              "\u001b[1;33m • \u001b[0m\u001b[1mReview your code.\u001b[0m                                                                                               \n",
              "\n",
              "\u001b[1mTo help me guide you better, tell me:\u001b[0m                                                                              \n",
              "\n",
              "\u001b[1;33m • \u001b[0m\u001b[1mWhat language is your program in?\u001b[0m                                                                               \n",
              "\u001b[1;33m • \u001b[0m\u001b[1mWhat does the program do?\u001b[0m                                                                                       \n",
              "\u001b[1;33m • \u001b[0m\u001b[1mWhat parts are you struggling with?\u001b[0m                                                                             \n",
              "\u001b[1;33m • \u001b[0m\u001b[1mDo you have any existing tests?\u001b[0m                                                                                 \n",
              "\n",
              "Let's get started!                                                                                                 \n"
            ],
            "text/html": [
              "<pre style=\"white-space:pre;overflow-x:auto;line-height:normal;font-family:Menlo,'DejaVu Sans Mono',consolas,'Courier New',monospace\"><span style=\"font-weight: bold\">AI Response</span>: Okay, I can definitely guide you with refactoring your old program! Let's break it down into steps:   \n",
              "\n",
              "<span style=\"font-weight: bold\">1. Understand the \"Why\":</span>                                                                                           \n",
              "\n",
              "<span style=\"color: #808000; text-decoration-color: #808000; font-weight: bold\"> • </span><span style=\"font-weight: bold\">What's the goal?</span> Is it to improve readability, performance, maintainability, or something else?                 \n",
              "<span style=\"color: #808000; text-decoration-color: #808000; font-weight: bold\"> • </span><span style=\"font-weight: bold\">What's the pain point?</span> What's currently difficult or confusing about the code?                                  \n",
              "\n",
              "<span style=\"font-weight: bold\">2. Plan Your Approach:</span>                                                                                             \n",
              "\n",
              "<span style=\"color: #808000; text-decoration-color: #808000; font-weight: bold\"> • </span><span style=\"font-weight: bold\">Start Small:</span> Don't try to refactor everything at once. Focus on one area or function.                           \n",
              "<span style=\"color: #808000; text-decoration-color: #808000; font-weight: bold\"> • </span><span style=\"font-weight: bold\">Test First:</span> Make sure you have tests in place to verify that your changes don't break anything.                 \n",
              "<span style=\"color: #808000; text-decoration-color: #808000; font-weight: bold\"> • </span><span style=\"font-weight: bold\">Version Control:</span> Use Git (or similar) to track your changes and easily revert if needed.                        \n",
              "\n",
              "<span style=\"font-weight: bold\">3. Refactoring Techniques:</span>                                                                                         \n",
              "\n",
              "<span style=\"color: #808000; text-decoration-color: #808000; font-weight: bold\"> • </span><span style=\"font-weight: bold\">Rename Variables/Functions:</span> Use clear, descriptive names.                                                       \n",
              "<span style=\"color: #808000; text-decoration-color: #808000; font-weight: bold\"> • </span><span style=\"font-weight: bold\">Extract Methods/Functions:</span> Break down large blocks of code into smaller, reusable pieces.                       \n",
              "<span style=\"color: #808000; text-decoration-color: #808000; font-weight: bold\"> • </span><span style=\"font-weight: bold\">Remove Duplication:</span> Identify and eliminate redundant code.                                                      \n",
              "<span style=\"color: #808000; text-decoration-color: #808000; font-weight: bold\"> • </span><span style=\"font-weight: bold\">Simplify Logic:</span> Use clearer control flow (e.g., avoid deeply nested <span style=\"color: #008080; text-decoration-color: #008080; background-color: #000000; font-weight: bold\">if</span> statements).                             \n",
              "<span style=\"color: #808000; text-decoration-color: #808000; font-weight: bold\"> • </span><span style=\"font-weight: bold\">Improve Data Structures:</span> Choose appropriate data structures for your needs.                                     \n",
              "\n",
              "<span style=\"font-weight: bold\">4. Iterative Process:</span>                                                                                              \n",
              "\n",
              "<span style=\"color: #808000; text-decoration-color: #808000; font-weight: bold\"> • </span><span style=\"font-weight: bold\">Refactor a little, test a little.</span>                                                                               \n",
              "<span style=\"color: #808000; text-decoration-color: #808000; font-weight: bold\"> • </span><span style=\"font-weight: bold\">Commit your changes frequently.</span>                                                                                 \n",
              "<span style=\"color: #808000; text-decoration-color: #808000; font-weight: bold\"> • </span><span style=\"font-weight: bold\">Review your code.</span>                                                                                               \n",
              "\n",
              "<span style=\"font-weight: bold\">To help me guide you better, tell me:</span>                                                                              \n",
              "\n",
              "<span style=\"color: #808000; text-decoration-color: #808000; font-weight: bold\"> • </span><span style=\"font-weight: bold\">What language is your program in?</span>                                                                               \n",
              "<span style=\"color: #808000; text-decoration-color: #808000; font-weight: bold\"> • </span><span style=\"font-weight: bold\">What does the program do?</span>                                                                                       \n",
              "<span style=\"color: #808000; text-decoration-color: #808000; font-weight: bold\"> • </span><span style=\"font-weight: bold\">What parts are you struggling with?</span>                                                                             \n",
              "<span style=\"color: #808000; text-decoration-color: #808000; font-weight: bold\"> • </span><span style=\"font-weight: bold\">Do you have any existing tests?</span>                                                                                 \n",
              "\n",
              "Let's get started!                                                                                                 \n",
              "</pre>\n"
            ]
          },
          "metadata": {}
        },
        {
          "name": "stdout",
          "output_type": "stream",
          "text": [
            "\n",
            "Enter your coding problem (or 'exit' to quit): ok, it's fine did you write the too simple pattern code in python and javascript?\n"
          ]
        },
        {
          "output_type": "display_data",
          "data": {
            "text/plain": [
              "\u001b[1mAI Response\u001b[0m: Okay, let's look at some very simple code patterns in both Python and JavaScript. I'll focus on       \n",
              "patterns that are common and useful for beginners.                                                                 \n",
              "\n",
              "\u001b[1m1. Looping Through a List/Array\u001b[0m                                                                                    \n",
              "\n",
              "\u001b[1;33m • \u001b[0m\u001b[1mPython:\u001b[0m                                                                                                         \n",
              "\n",
              "\u001b[48;2;39;40;34m                                                                                                                   \u001b[0m\n",
              "\u001b[48;2;39;40;34m \u001b[0m\u001b[38;2;248;248;242;48;2;39;40;34m ```python\u001b[0m\u001b[48;2;39;40;34m                                                                                                       \u001b[0m\u001b[48;2;39;40;34m \u001b[0m\n",
              "\u001b[48;2;39;40;34m \u001b[0m\u001b[38;2;248;248;242;48;2;39;40;34m my_list = [1, 2, 3, 4, 5]\u001b[0m\u001b[48;2;39;40;34m                                                                                       \u001b[0m\u001b[48;2;39;40;34m \u001b[0m\n",
              "\u001b[48;2;39;40;34m \u001b[0m\u001b[38;2;248;248;242;48;2;39;40;34m for item in my_list:\u001b[0m\u001b[48;2;39;40;34m                                                                                            \u001b[0m\u001b[48;2;39;40;34m \u001b[0m\n",
              "\u001b[48;2;39;40;34m \u001b[0m\u001b[38;2;248;248;242;48;2;39;40;34m     print(item)\u001b[0m\u001b[48;2;39;40;34m                                                                                                 \u001b[0m\u001b[48;2;39;40;34m \u001b[0m\n",
              "\u001b[48;2;39;40;34m \u001b[0m\u001b[38;2;248;248;242;48;2;39;40;34m ```\u001b[0m\u001b[48;2;39;40;34m                                                                                                             \u001b[0m\u001b[48;2;39;40;34m \u001b[0m\n",
              "\u001b[48;2;39;40;34m                                                                                                                   \u001b[0m\n",
              "\n",
              "\u001b[1;33m • \u001b[0m\u001b[1mJavaScript:\u001b[0m                                                                                                     \n",
              "\n",
              "\u001b[48;2;39;40;34m                                                                                                                   \u001b[0m\n",
              "\u001b[48;2;39;40;34m \u001b[0m\u001b[38;2;248;248;242;48;2;39;40;34m ```javascript\u001b[0m\u001b[48;2;39;40;34m                                                                                                   \u001b[0m\u001b[48;2;39;40;34m \u001b[0m\n",
              "\u001b[48;2;39;40;34m \u001b[0m\u001b[38;2;248;248;242;48;2;39;40;34m const myArray = [1, 2, 3, 4, 5];\u001b[0m\u001b[48;2;39;40;34m                                                                                \u001b[0m\u001b[48;2;39;40;34m \u001b[0m\n",
              "\u001b[48;2;39;40;34m \u001b[0m\u001b[38;2;248;248;242;48;2;39;40;34m for (let i = 0; i < myArray.length; i++) {\u001b[0m\u001b[48;2;39;40;34m                                                                      \u001b[0m\u001b[48;2;39;40;34m \u001b[0m\n",
              "\u001b[48;2;39;40;34m \u001b[0m\u001b[38;2;248;248;242;48;2;39;40;34m   console.log(myArray[i]);\u001b[0m\u001b[48;2;39;40;34m                                                                                      \u001b[0m\u001b[48;2;39;40;34m \u001b[0m\n",
              "\u001b[48;2;39;40;34m \u001b[0m\u001b[38;2;248;248;242;48;2;39;40;34m }\u001b[0m\u001b[48;2;39;40;34m                                                                                                               \u001b[0m\u001b[48;2;39;40;34m \u001b[0m\n",
              "\u001b[48;2;39;40;34m \u001b[0m\u001b[38;2;248;248;242;48;2;39;40;34m // or using forEach\u001b[0m\u001b[48;2;39;40;34m                                                                                             \u001b[0m\u001b[48;2;39;40;34m \u001b[0m\n",
              "\u001b[48;2;39;40;34m \u001b[0m\u001b[38;2;248;248;242;48;2;39;40;34m myArray.forEach(item => console.log(item));\u001b[0m\u001b[48;2;39;40;34m                                                                     \u001b[0m\u001b[48;2;39;40;34m \u001b[0m\n",
              "\u001b[48;2;39;40;34m \u001b[0m\u001b[38;2;248;248;242;48;2;39;40;34m ```\u001b[0m\u001b[48;2;39;40;34m                                                                                                             \u001b[0m\u001b[48;2;39;40;34m \u001b[0m\n",
              "\u001b[48;2;39;40;34m                                                                                                                   \u001b[0m\n",
              "\n",
              "\u001b[1m2. Conditional Statements (if/else)\u001b[0m                                                                                \n",
              "\n",
              "\u001b[1;33m • \u001b[0m\u001b[1mPython:\u001b[0m                                                                                                         \n",
              "\n",
              "\u001b[48;2;39;40;34m                                                                                                                   \u001b[0m\n",
              "\u001b[48;2;39;40;34m \u001b[0m\u001b[38;2;248;248;242;48;2;39;40;34m ```python\u001b[0m\u001b[48;2;39;40;34m                                                                                                       \u001b[0m\u001b[48;2;39;40;34m \u001b[0m\n",
              "\u001b[48;2;39;40;34m \u001b[0m\u001b[38;2;248;248;242;48;2;39;40;34m x = 10\u001b[0m\u001b[48;2;39;40;34m                                                                                                          \u001b[0m\u001b[48;2;39;40;34m \u001b[0m\n",
              "\u001b[48;2;39;40;34m \u001b[0m\u001b[38;2;248;248;242;48;2;39;40;34m if x > 5:\u001b[0m\u001b[48;2;39;40;34m                                                                                                       \u001b[0m\u001b[48;2;39;40;34m \u001b[0m\n",
              "\u001b[48;2;39;40;34m \u001b[0m\u001b[38;2;248;248;242;48;2;39;40;34m     print(\"x is greater than 5\")\u001b[0m\u001b[48;2;39;40;34m                                                                                \u001b[0m\u001b[48;2;39;40;34m \u001b[0m\n",
              "\u001b[48;2;39;40;34m \u001b[0m\u001b[38;2;248;248;242;48;2;39;40;34m else:\u001b[0m\u001b[48;2;39;40;34m                                                                                                           \u001b[0m\u001b[48;2;39;40;34m \u001b[0m\n",
              "\u001b[48;2;39;40;34m \u001b[0m\u001b[38;2;248;248;242;48;2;39;40;34m     print(\"x is not greater than 5\")\u001b[0m\u001b[48;2;39;40;34m                                                                            \u001b[0m\u001b[48;2;39;40;34m \u001b[0m\n",
              "\u001b[48;2;39;40;34m \u001b[0m\u001b[38;2;248;248;242;48;2;39;40;34m ```\u001b[0m\u001b[48;2;39;40;34m                                                                                                             \u001b[0m\u001b[48;2;39;40;34m \u001b[0m\n",
              "\u001b[48;2;39;40;34m                                                                                                                   \u001b[0m\n",
              "\n",
              "\u001b[1;33m • \u001b[0m\u001b[1mJavaScript:\u001b[0m                                                                                                     \n",
              "\n",
              "\u001b[48;2;39;40;34m                                                                                                                   \u001b[0m\n",
              "\u001b[48;2;39;40;34m \u001b[0m\u001b[38;2;248;248;242;48;2;39;40;34m ```javascript\u001b[0m\u001b[48;2;39;40;34m                                                                                                   \u001b[0m\u001b[48;2;39;40;34m \u001b[0m\n",
              "\u001b[48;2;39;40;34m \u001b[0m\u001b[38;2;248;248;242;48;2;39;40;34m const x = 10;\u001b[0m\u001b[48;2;39;40;34m                                                                                                   \u001b[0m\u001b[48;2;39;40;34m \u001b[0m\n",
              "\u001b[48;2;39;40;34m \u001b[0m\u001b[38;2;248;248;242;48;2;39;40;34m if (x > 5) {\u001b[0m\u001b[48;2;39;40;34m                                                                                                    \u001b[0m\u001b[48;2;39;40;34m \u001b[0m\n",
              "\u001b[48;2;39;40;34m \u001b[0m\u001b[38;2;248;248;242;48;2;39;40;34m   console.log(\"x is greater than 5\");\u001b[0m\u001b[48;2;39;40;34m                                                                           \u001b[0m\u001b[48;2;39;40;34m \u001b[0m\n",
              "\u001b[48;2;39;40;34m \u001b[0m\u001b[38;2;248;248;242;48;2;39;40;34m } else {\u001b[0m\u001b[48;2;39;40;34m                                                                                                        \u001b[0m\u001b[48;2;39;40;34m \u001b[0m\n",
              "\u001b[48;2;39;40;34m \u001b[0m\u001b[38;2;248;248;242;48;2;39;40;34m   console.log(\"x is not greater than 5\");\u001b[0m\u001b[48;2;39;40;34m                                                                       \u001b[0m\u001b[48;2;39;40;34m \u001b[0m\n",
              "\u001b[48;2;39;40;34m \u001b[0m\u001b[38;2;248;248;242;48;2;39;40;34m }\u001b[0m\u001b[48;2;39;40;34m                                                                                                               \u001b[0m\u001b[48;2;39;40;34m \u001b[0m\n",
              "\u001b[48;2;39;40;34m \u001b[0m\u001b[38;2;248;248;242;48;2;39;40;34m ```\u001b[0m\u001b[48;2;39;40;34m                                                                                                             \u001b[0m\u001b[48;2;39;40;34m \u001b[0m\n",
              "\u001b[48;2;39;40;34m                                                                                                                   \u001b[0m\n",
              "\n",
              "\u001b[1m3. Function Definition\u001b[0m                                                                                             \n",
              "\n",
              "\u001b[1;33m • \u001b[0m\u001b[1mPython:\u001b[0m                                                                                                         \n",
              "\n",
              "\u001b[48;2;39;40;34m                                                                                                                   \u001b[0m\n",
              "\u001b[48;2;39;40;34m \u001b[0m\u001b[38;2;248;248;242;48;2;39;40;34m ```python\u001b[0m\u001b[48;2;39;40;34m                                                                                                       \u001b[0m\u001b[48;2;39;40;34m \u001b[0m\n",
              "\u001b[48;2;39;40;34m \u001b[0m\u001b[38;2;248;248;242;48;2;39;40;34m def add_numbers(a, b):\u001b[0m\u001b[48;2;39;40;34m                                                                                          \u001b[0m\u001b[48;2;39;40;34m \u001b[0m\n",
              "\u001b[48;2;39;40;34m \u001b[0m\u001b[38;2;248;248;242;48;2;39;40;34m     return a + b\u001b[0m\u001b[48;2;39;40;34m                                                                                                \u001b[0m\u001b[48;2;39;40;34m \u001b[0m\n",
              "\u001b[48;2;39;40;34m \u001b[0m\u001b[48;2;39;40;34m                                                                                                                 \u001b[0m\u001b[48;2;39;40;34m \u001b[0m\n",
              "\u001b[48;2;39;40;34m \u001b[0m\u001b[38;2;248;248;242;48;2;39;40;34m result = add_numbers(3, 5)\u001b[0m\u001b[48;2;39;40;34m                                                                                      \u001b[0m\u001b[48;2;39;40;34m \u001b[0m\n",
              "\u001b[48;2;39;40;34m \u001b[0m\u001b[38;2;248;248;242;48;2;39;40;34m print(result)\u001b[0m\u001b[48;2;39;40;34m                                                                                                   \u001b[0m\u001b[48;2;39;40;34m \u001b[0m\n",
              "\u001b[48;2;39;40;34m \u001b[0m\u001b[38;2;248;248;242;48;2;39;40;34m ```\u001b[0m\u001b[48;2;39;40;34m                                                                                                             \u001b[0m\u001b[48;2;39;40;34m \u001b[0m\n",
              "\u001b[48;2;39;40;34m                                                                                                                   \u001b[0m\n",
              "\n",
              "\u001b[1;33m • \u001b[0m\u001b[1mJavaScript:\u001b[0m                                                                                                     \n",
              "\n",
              "\u001b[48;2;39;40;34m                                                                                                                   \u001b[0m\n",
              "\u001b[48;2;39;40;34m \u001b[0m\u001b[38;2;248;248;242;48;2;39;40;34m ```javascript\u001b[0m\u001b[48;2;39;40;34m                                                                                                   \u001b[0m\u001b[48;2;39;40;34m \u001b[0m\n",
              "\u001b[48;2;39;40;34m \u001b[0m\u001b[38;2;248;248;242;48;2;39;40;34m function addNumbers(a, b) {\u001b[0m\u001b[48;2;39;40;34m                                                                                     \u001b[0m\u001b[48;2;39;40;34m \u001b[0m\n",
              "\u001b[48;2;39;40;34m \u001b[0m\u001b[38;2;248;248;242;48;2;39;40;34m   return a + b;\u001b[0m\u001b[48;2;39;40;34m                                                                                                 \u001b[0m\u001b[48;2;39;40;34m \u001b[0m\n",
              "\u001b[48;2;39;40;34m \u001b[0m\u001b[38;2;248;248;242;48;2;39;40;34m }\u001b[0m\u001b[48;2;39;40;34m                                                                                                               \u001b[0m\u001b[48;2;39;40;34m \u001b[0m\n",
              "\u001b[48;2;39;40;34m \u001b[0m\u001b[48;2;39;40;34m                                                                                                                 \u001b[0m\u001b[48;2;39;40;34m \u001b[0m\n",
              "\u001b[48;2;39;40;34m \u001b[0m\u001b[38;2;248;248;242;48;2;39;40;34m const result = addNumbers(3, 5);\u001b[0m\u001b[48;2;39;40;34m                                                                                \u001b[0m\u001b[48;2;39;40;34m \u001b[0m\n",
              "\u001b[48;2;39;40;34m \u001b[0m\u001b[38;2;248;248;242;48;2;39;40;34m console.log(result);\u001b[0m\u001b[48;2;39;40;34m                                                                                            \u001b[0m\u001b[48;2;39;40;34m \u001b[0m\n",
              "\u001b[48;2;39;40;34m \u001b[0m\u001b[48;2;39;40;34m                                                                                                                 \u001b[0m\u001b[48;2;39;40;34m \u001b[0m\n",
              "\u001b[48;2;39;40;34m \u001b[0m\u001b[38;2;248;248;242;48;2;39;40;34m // or using arrow function\u001b[0m\u001b[48;2;39;40;34m                                                                                      \u001b[0m\u001b[48;2;39;40;34m \u001b[0m\n",
              "\u001b[48;2;39;40;34m \u001b[0m\u001b[38;2;248;248;242;48;2;39;40;34m const addNumbersArrow = (a, b) => a + b;\u001b[0m\u001b[48;2;39;40;34m                                                                        \u001b[0m\u001b[48;2;39;40;34m \u001b[0m\n",
              "\u001b[48;2;39;40;34m \u001b[0m\u001b[38;2;248;248;242;48;2;39;40;34m const resultArrow = addNumbersArrow(3,5);\u001b[0m\u001b[48;2;39;40;34m                                                                       \u001b[0m\u001b[48;2;39;40;34m \u001b[0m\n",
              "\u001b[48;2;39;40;34m \u001b[0m\u001b[38;2;248;248;242;48;2;39;40;34m console.log(resultArrow);\u001b[0m\u001b[48;2;39;40;34m                                                                                       \u001b[0m\u001b[48;2;39;40;34m \u001b[0m\n",
              "\u001b[48;2;39;40;34m \u001b[0m\u001b[38;2;248;248;242;48;2;39;40;34m ```\u001b[0m\u001b[48;2;39;40;34m                                                                                                             \u001b[0m\u001b[48;2;39;40;34m \u001b[0m\n",
              "\u001b[48;2;39;40;34m                                                                                                                   \u001b[0m\n",
              "\n",
              "\u001b[1m4. Working with Objects/Dictionaries\u001b[0m                                                                               \n",
              "\n",
              "\u001b[1;33m • \u001b[0m\u001b[1mPython:\u001b[0m                                                                                                         \n",
              "\n",
              "\u001b[48;2;39;40;34m                                                                                                                   \u001b[0m\n",
              "\u001b[48;2;39;40;34m \u001b[0m\u001b[38;2;248;248;242;48;2;39;40;34m ```python\u001b[0m\u001b[48;2;39;40;34m                                                                                                       \u001b[0m\u001b[48;2;39;40;34m \u001b[0m\n",
              "\u001b[48;2;39;40;34m \u001b[0m\u001b[38;2;248;248;242;48;2;39;40;34m person = {\u001b[0m\u001b[48;2;39;40;34m                                                                                                      \u001b[0m\u001b[48;2;39;40;34m \u001b[0m\n",
              "\u001b[48;2;39;40;34m \u001b[0m\u001b[38;2;248;248;242;48;2;39;40;34m     \"name\": \"Alice\",\u001b[0m\u001b[48;2;39;40;34m                                                                                            \u001b[0m\u001b[48;2;39;40;34m \u001b[0m\n",
              "\u001b[48;2;39;40;34m \u001b[0m\u001b[38;2;248;248;242;48;2;39;40;34m     \"age\": 30\u001b[0m\u001b[48;2;39;40;34m                                                                                                   \u001b[0m\u001b[48;2;39;40;34m \u001b[0m\n",
              "\u001b[48;2;39;40;34m \u001b[0m\u001b[38;2;248;248;242;48;2;39;40;34m }\u001b[0m\u001b[48;2;39;40;34m                                                                                                               \u001b[0m\u001b[48;2;39;40;34m \u001b[0m\n",
              "\u001b[48;2;39;40;34m \u001b[0m\u001b[38;2;248;248;242;48;2;39;40;34m print(person[\"name\"])\u001b[0m\u001b[48;2;39;40;34m                                                                                           \u001b[0m\u001b[48;2;39;40;34m \u001b[0m\n",
              "\u001b[48;2;39;40;34m \u001b[0m\u001b[38;2;248;248;242;48;2;39;40;34m ```\u001b[0m\u001b[48;2;39;40;34m                                                                                                             \u001b[0m\u001b[48;2;39;40;34m \u001b[0m\n",
              "\u001b[48;2;39;40;34m                                                                                                                   \u001b[0m\n",
              "\n",
              "\u001b[1;33m • \u001b[0m\u001b[1mJavaScript:\u001b[0m                                                                                                     \n",
              "\n",
              "\u001b[48;2;39;40;34m                                                                                                                   \u001b[0m\n",
              "\u001b[48;2;39;40;34m \u001b[0m\u001b[38;2;248;248;242;48;2;39;40;34m ```javascript\u001b[0m\u001b[48;2;39;40;34m                                                                                                   \u001b[0m\u001b[48;2;39;40;34m \u001b[0m\n",
              "\u001b[48;2;39;40;34m \u001b[0m\u001b[38;2;248;248;242;48;2;39;40;34m const person = {\u001b[0m\u001b[48;2;39;40;34m                                                                                                \u001b[0m\u001b[48;2;39;40;34m \u001b[0m\n",
              "\u001b[48;2;39;40;34m \u001b[0m\u001b[38;2;248;248;242;48;2;39;40;34m   name: \"Alice\",\u001b[0m\u001b[48;2;39;40;34m                                                                                                \u001b[0m\u001b[48;2;39;40;34m \u001b[0m\n",
              "\u001b[48;2;39;40;34m \u001b[0m\u001b[38;2;248;248;242;48;2;39;40;34m   age: 30\u001b[0m\u001b[48;2;39;40;34m                                                                                                       \u001b[0m\u001b[48;2;39;40;34m \u001b[0m\n",
              "\u001b[48;2;39;40;34m \u001b[0m\u001b[38;2;248;248;242;48;2;39;40;34m };\u001b[0m\u001b[48;2;39;40;34m                                                                                                              \u001b[0m\u001b[48;2;39;40;34m \u001b[0m\n",
              "\u001b[48;2;39;40;34m \u001b[0m\u001b[38;2;248;248;242;48;2;39;40;34m console.log(person.name);\u001b[0m\u001b[48;2;39;40;34m                                                                                       \u001b[0m\u001b[48;2;39;40;34m \u001b[0m\n",
              "\u001b[48;2;39;40;34m \u001b[0m\u001b[38;2;248;248;242;48;2;39;40;34m ```\u001b[0m\u001b[48;2;39;40;34m                                                                                                             \u001b[0m\u001b[48;2;39;40;34m \u001b[0m\n",
              "\u001b[48;2;39;40;34m                                                                                                                   \u001b[0m\n",
              "\n",
              "\u001b[1mKey Takeaways:\u001b[0m                                                                                                     \n",
              "\n",
              "\u001b[1;33m • \u001b[0m\u001b[1mSyntax Differences:\u001b[0m Python uses indentation for code blocks, while JavaScript uses curly braces \u001b[1;36;40m{}\u001b[0m.             \n",
              "\u001b[1;33m • \u001b[0m\u001b[1mVariable Declaration:\u001b[0m Python is dynamically typed (no explicit type declaration), while JavaScript uses \u001b[1;36;40mconst\u001b[0m or\n",
              "\u001b[1;33m   \u001b[0m\u001b[1;36;40mlet\u001b[0m.                                                                                                            \n",
              "\u001b[1;33m • \u001b[0m\u001b[1mLooping:\u001b[0m Both have \u001b[1;36;40mfor\u001b[0m loops, but Python's \u001b[1;36;40mfor...in\u001b[0m is more concise for iterating over lists. JavaScript has    \n",
              "\u001b[1;33m   \u001b[0m\u001b[1;36;40mforEach\u001b[0m for arrays.                                                                                             \n",
              "\u001b[1;33m • \u001b[0m\u001b[1mFunctions:\u001b[0m Both use \u001b[1;36;40mdef\u001b[0m (Python) and \u001b[1;36;40mfunction\u001b[0m (JavaScript) to define functions. JavaScript also has arrow       \n",
              "\u001b[1;33m   \u001b[0mfunctions.                                                                                                      \n",
              "\n",
              "These are very basic examples, but they illustrate some fundamental patterns you'll encounter in both languages.   \n",
              "\n",
              "\u001b[1mDo you have any specific patterns you'd like to see or any questions about these examples?\u001b[0m                         \n"
            ],
            "text/html": [
              "<pre style=\"white-space:pre;overflow-x:auto;line-height:normal;font-family:Menlo,'DejaVu Sans Mono',consolas,'Courier New',monospace\"><span style=\"font-weight: bold\">AI Response</span>: Okay, let's look at some very simple code patterns in both Python and JavaScript. I'll focus on       \n",
              "patterns that are common and useful for beginners.                                                                 \n",
              "\n",
              "<span style=\"font-weight: bold\">1. Looping Through a List/Array</span>                                                                                    \n",
              "\n",
              "<span style=\"color: #808000; text-decoration-color: #808000; font-weight: bold\"> • </span><span style=\"font-weight: bold\">Python:</span>                                                                                                         \n",
              "\n",
              "<span style=\"background-color: #272822\">                                                                                                                   </span>\n",
              "<span style=\"background-color: #272822\"> </span><span style=\"color: #f8f8f2; text-decoration-color: #f8f8f2; background-color: #272822\"> ```python</span><span style=\"background-color: #272822\">                                                                                                        </span>\n",
              "<span style=\"background-color: #272822\"> </span><span style=\"color: #f8f8f2; text-decoration-color: #f8f8f2; background-color: #272822\"> my_list = [1, 2, 3, 4, 5]</span><span style=\"background-color: #272822\">                                                                                        </span>\n",
              "<span style=\"background-color: #272822\"> </span><span style=\"color: #f8f8f2; text-decoration-color: #f8f8f2; background-color: #272822\"> for item in my_list:</span><span style=\"background-color: #272822\">                                                                                             </span>\n",
              "<span style=\"background-color: #272822\"> </span><span style=\"color: #f8f8f2; text-decoration-color: #f8f8f2; background-color: #272822\">     print(item)</span><span style=\"background-color: #272822\">                                                                                                  </span>\n",
              "<span style=\"background-color: #272822\"> </span><span style=\"color: #f8f8f2; text-decoration-color: #f8f8f2; background-color: #272822\"> ```</span><span style=\"background-color: #272822\">                                                                                                              </span>\n",
              "<span style=\"background-color: #272822\">                                                                                                                   </span>\n",
              "\n",
              "<span style=\"color: #808000; text-decoration-color: #808000; font-weight: bold\"> • </span><span style=\"font-weight: bold\">JavaScript:</span>                                                                                                     \n",
              "\n",
              "<span style=\"background-color: #272822\">                                                                                                                   </span>\n",
              "<span style=\"background-color: #272822\"> </span><span style=\"color: #f8f8f2; text-decoration-color: #f8f8f2; background-color: #272822\"> ```javascript</span><span style=\"background-color: #272822\">                                                                                                    </span>\n",
              "<span style=\"background-color: #272822\"> </span><span style=\"color: #f8f8f2; text-decoration-color: #f8f8f2; background-color: #272822\"> const myArray = [1, 2, 3, 4, 5];</span><span style=\"background-color: #272822\">                                                                                 </span>\n",
              "<span style=\"background-color: #272822\"> </span><span style=\"color: #f8f8f2; text-decoration-color: #f8f8f2; background-color: #272822\"> for (let i = 0; i &lt; myArray.length; i++) {</span><span style=\"background-color: #272822\">                                                                       </span>\n",
              "<span style=\"background-color: #272822\"> </span><span style=\"color: #f8f8f2; text-decoration-color: #f8f8f2; background-color: #272822\">   console.log(myArray[i]);</span><span style=\"background-color: #272822\">                                                                                       </span>\n",
              "<span style=\"background-color: #272822\"> </span><span style=\"color: #f8f8f2; text-decoration-color: #f8f8f2; background-color: #272822\"> }</span><span style=\"background-color: #272822\">                                                                                                                </span>\n",
              "<span style=\"background-color: #272822\"> </span><span style=\"color: #f8f8f2; text-decoration-color: #f8f8f2; background-color: #272822\"> // or using forEach</span><span style=\"background-color: #272822\">                                                                                              </span>\n",
              "<span style=\"background-color: #272822\"> </span><span style=\"color: #f8f8f2; text-decoration-color: #f8f8f2; background-color: #272822\"> myArray.forEach(item =&gt; console.log(item));</span><span style=\"background-color: #272822\">                                                                      </span>\n",
              "<span style=\"background-color: #272822\"> </span><span style=\"color: #f8f8f2; text-decoration-color: #f8f8f2; background-color: #272822\"> ```</span><span style=\"background-color: #272822\">                                                                                                              </span>\n",
              "<span style=\"background-color: #272822\">                                                                                                                   </span>\n",
              "\n",
              "<span style=\"font-weight: bold\">2. Conditional Statements (if/else)</span>                                                                                \n",
              "\n",
              "<span style=\"color: #808000; text-decoration-color: #808000; font-weight: bold\"> • </span><span style=\"font-weight: bold\">Python:</span>                                                                                                         \n",
              "\n",
              "<span style=\"background-color: #272822\">                                                                                                                   </span>\n",
              "<span style=\"background-color: #272822\"> </span><span style=\"color: #f8f8f2; text-decoration-color: #f8f8f2; background-color: #272822\"> ```python</span><span style=\"background-color: #272822\">                                                                                                        </span>\n",
              "<span style=\"background-color: #272822\"> </span><span style=\"color: #f8f8f2; text-decoration-color: #f8f8f2; background-color: #272822\"> x = 10</span><span style=\"background-color: #272822\">                                                                                                           </span>\n",
              "<span style=\"background-color: #272822\"> </span><span style=\"color: #f8f8f2; text-decoration-color: #f8f8f2; background-color: #272822\"> if x &gt; 5:</span><span style=\"background-color: #272822\">                                                                                                        </span>\n",
              "<span style=\"background-color: #272822\"> </span><span style=\"color: #f8f8f2; text-decoration-color: #f8f8f2; background-color: #272822\">     print(\"x is greater than 5\")</span><span style=\"background-color: #272822\">                                                                                 </span>\n",
              "<span style=\"background-color: #272822\"> </span><span style=\"color: #f8f8f2; text-decoration-color: #f8f8f2; background-color: #272822\"> else:</span><span style=\"background-color: #272822\">                                                                                                            </span>\n",
              "<span style=\"background-color: #272822\"> </span><span style=\"color: #f8f8f2; text-decoration-color: #f8f8f2; background-color: #272822\">     print(\"x is not greater than 5\")</span><span style=\"background-color: #272822\">                                                                             </span>\n",
              "<span style=\"background-color: #272822\"> </span><span style=\"color: #f8f8f2; text-decoration-color: #f8f8f2; background-color: #272822\"> ```</span><span style=\"background-color: #272822\">                                                                                                              </span>\n",
              "<span style=\"background-color: #272822\">                                                                                                                   </span>\n",
              "\n",
              "<span style=\"color: #808000; text-decoration-color: #808000; font-weight: bold\"> • </span><span style=\"font-weight: bold\">JavaScript:</span>                                                                                                     \n",
              "\n",
              "<span style=\"background-color: #272822\">                                                                                                                   </span>\n",
              "<span style=\"background-color: #272822\"> </span><span style=\"color: #f8f8f2; text-decoration-color: #f8f8f2; background-color: #272822\"> ```javascript</span><span style=\"background-color: #272822\">                                                                                                    </span>\n",
              "<span style=\"background-color: #272822\"> </span><span style=\"color: #f8f8f2; text-decoration-color: #f8f8f2; background-color: #272822\"> const x = 10;</span><span style=\"background-color: #272822\">                                                                                                    </span>\n",
              "<span style=\"background-color: #272822\"> </span><span style=\"color: #f8f8f2; text-decoration-color: #f8f8f2; background-color: #272822\"> if (x &gt; 5) {</span><span style=\"background-color: #272822\">                                                                                                     </span>\n",
              "<span style=\"background-color: #272822\"> </span><span style=\"color: #f8f8f2; text-decoration-color: #f8f8f2; background-color: #272822\">   console.log(\"x is greater than 5\");</span><span style=\"background-color: #272822\">                                                                            </span>\n",
              "<span style=\"background-color: #272822\"> </span><span style=\"color: #f8f8f2; text-decoration-color: #f8f8f2; background-color: #272822\"> } else {</span><span style=\"background-color: #272822\">                                                                                                         </span>\n",
              "<span style=\"background-color: #272822\"> </span><span style=\"color: #f8f8f2; text-decoration-color: #f8f8f2; background-color: #272822\">   console.log(\"x is not greater than 5\");</span><span style=\"background-color: #272822\">                                                                        </span>\n",
              "<span style=\"background-color: #272822\"> </span><span style=\"color: #f8f8f2; text-decoration-color: #f8f8f2; background-color: #272822\"> }</span><span style=\"background-color: #272822\">                                                                                                                </span>\n",
              "<span style=\"background-color: #272822\"> </span><span style=\"color: #f8f8f2; text-decoration-color: #f8f8f2; background-color: #272822\"> ```</span><span style=\"background-color: #272822\">                                                                                                              </span>\n",
              "<span style=\"background-color: #272822\">                                                                                                                   </span>\n",
              "\n",
              "<span style=\"font-weight: bold\">3. Function Definition</span>                                                                                             \n",
              "\n",
              "<span style=\"color: #808000; text-decoration-color: #808000; font-weight: bold\"> • </span><span style=\"font-weight: bold\">Python:</span>                                                                                                         \n",
              "\n",
              "<span style=\"background-color: #272822\">                                                                                                                   </span>\n",
              "<span style=\"background-color: #272822\"> </span><span style=\"color: #f8f8f2; text-decoration-color: #f8f8f2; background-color: #272822\"> ```python</span><span style=\"background-color: #272822\">                                                                                                        </span>\n",
              "<span style=\"background-color: #272822\"> </span><span style=\"color: #f8f8f2; text-decoration-color: #f8f8f2; background-color: #272822\"> def add_numbers(a, b):</span><span style=\"background-color: #272822\">                                                                                           </span>\n",
              "<span style=\"background-color: #272822\"> </span><span style=\"color: #f8f8f2; text-decoration-color: #f8f8f2; background-color: #272822\">     return a + b</span><span style=\"background-color: #272822\">                                                                                                 </span>\n",
              "<span style=\"background-color: #272822\">                                                                                                                   </span>\n",
              "<span style=\"background-color: #272822\"> </span><span style=\"color: #f8f8f2; text-decoration-color: #f8f8f2; background-color: #272822\"> result = add_numbers(3, 5)</span><span style=\"background-color: #272822\">                                                                                       </span>\n",
              "<span style=\"background-color: #272822\"> </span><span style=\"color: #f8f8f2; text-decoration-color: #f8f8f2; background-color: #272822\"> print(result)</span><span style=\"background-color: #272822\">                                                                                                    </span>\n",
              "<span style=\"background-color: #272822\"> </span><span style=\"color: #f8f8f2; text-decoration-color: #f8f8f2; background-color: #272822\"> ```</span><span style=\"background-color: #272822\">                                                                                                              </span>\n",
              "<span style=\"background-color: #272822\">                                                                                                                   </span>\n",
              "\n",
              "<span style=\"color: #808000; text-decoration-color: #808000; font-weight: bold\"> • </span><span style=\"font-weight: bold\">JavaScript:</span>                                                                                                     \n",
              "\n",
              "<span style=\"background-color: #272822\">                                                                                                                   </span>\n",
              "<span style=\"background-color: #272822\"> </span><span style=\"color: #f8f8f2; text-decoration-color: #f8f8f2; background-color: #272822\"> ```javascript</span><span style=\"background-color: #272822\">                                                                                                    </span>\n",
              "<span style=\"background-color: #272822\"> </span><span style=\"color: #f8f8f2; text-decoration-color: #f8f8f2; background-color: #272822\"> function addNumbers(a, b) {</span><span style=\"background-color: #272822\">                                                                                      </span>\n",
              "<span style=\"background-color: #272822\"> </span><span style=\"color: #f8f8f2; text-decoration-color: #f8f8f2; background-color: #272822\">   return a + b;</span><span style=\"background-color: #272822\">                                                                                                  </span>\n",
              "<span style=\"background-color: #272822\"> </span><span style=\"color: #f8f8f2; text-decoration-color: #f8f8f2; background-color: #272822\"> }</span><span style=\"background-color: #272822\">                                                                                                                </span>\n",
              "<span style=\"background-color: #272822\">                                                                                                                   </span>\n",
              "<span style=\"background-color: #272822\"> </span><span style=\"color: #f8f8f2; text-decoration-color: #f8f8f2; background-color: #272822\"> const result = addNumbers(3, 5);</span><span style=\"background-color: #272822\">                                                                                 </span>\n",
              "<span style=\"background-color: #272822\"> </span><span style=\"color: #f8f8f2; text-decoration-color: #f8f8f2; background-color: #272822\"> console.log(result);</span><span style=\"background-color: #272822\">                                                                                             </span>\n",
              "<span style=\"background-color: #272822\">                                                                                                                   </span>\n",
              "<span style=\"background-color: #272822\"> </span><span style=\"color: #f8f8f2; text-decoration-color: #f8f8f2; background-color: #272822\"> // or using arrow function</span><span style=\"background-color: #272822\">                                                                                       </span>\n",
              "<span style=\"background-color: #272822\"> </span><span style=\"color: #f8f8f2; text-decoration-color: #f8f8f2; background-color: #272822\"> const addNumbersArrow = (a, b) =&gt; a + b;</span><span style=\"background-color: #272822\">                                                                         </span>\n",
              "<span style=\"background-color: #272822\"> </span><span style=\"color: #f8f8f2; text-decoration-color: #f8f8f2; background-color: #272822\"> const resultArrow = addNumbersArrow(3,5);</span><span style=\"background-color: #272822\">                                                                        </span>\n",
              "<span style=\"background-color: #272822\"> </span><span style=\"color: #f8f8f2; text-decoration-color: #f8f8f2; background-color: #272822\"> console.log(resultArrow);</span><span style=\"background-color: #272822\">                                                                                        </span>\n",
              "<span style=\"background-color: #272822\"> </span><span style=\"color: #f8f8f2; text-decoration-color: #f8f8f2; background-color: #272822\"> ```</span><span style=\"background-color: #272822\">                                                                                                              </span>\n",
              "<span style=\"background-color: #272822\">                                                                                                                   </span>\n",
              "\n",
              "<span style=\"font-weight: bold\">4. Working with Objects/Dictionaries</span>                                                                               \n",
              "\n",
              "<span style=\"color: #808000; text-decoration-color: #808000; font-weight: bold\"> • </span><span style=\"font-weight: bold\">Python:</span>                                                                                                         \n",
              "\n",
              "<span style=\"background-color: #272822\">                                                                                                                   </span>\n",
              "<span style=\"background-color: #272822\"> </span><span style=\"color: #f8f8f2; text-decoration-color: #f8f8f2; background-color: #272822\"> ```python</span><span style=\"background-color: #272822\">                                                                                                        </span>\n",
              "<span style=\"background-color: #272822\"> </span><span style=\"color: #f8f8f2; text-decoration-color: #f8f8f2; background-color: #272822\"> person = {</span><span style=\"background-color: #272822\">                                                                                                       </span>\n",
              "<span style=\"background-color: #272822\"> </span><span style=\"color: #f8f8f2; text-decoration-color: #f8f8f2; background-color: #272822\">     \"name\": \"Alice\",</span><span style=\"background-color: #272822\">                                                                                             </span>\n",
              "<span style=\"background-color: #272822\"> </span><span style=\"color: #f8f8f2; text-decoration-color: #f8f8f2; background-color: #272822\">     \"age\": 30</span><span style=\"background-color: #272822\">                                                                                                    </span>\n",
              "<span style=\"background-color: #272822\"> </span><span style=\"color: #f8f8f2; text-decoration-color: #f8f8f2; background-color: #272822\"> }</span><span style=\"background-color: #272822\">                                                                                                                </span>\n",
              "<span style=\"background-color: #272822\"> </span><span style=\"color: #f8f8f2; text-decoration-color: #f8f8f2; background-color: #272822\"> print(person[\"name\"])</span><span style=\"background-color: #272822\">                                                                                            </span>\n",
              "<span style=\"background-color: #272822\"> </span><span style=\"color: #f8f8f2; text-decoration-color: #f8f8f2; background-color: #272822\"> ```</span><span style=\"background-color: #272822\">                                                                                                              </span>\n",
              "<span style=\"background-color: #272822\">                                                                                                                   </span>\n",
              "\n",
              "<span style=\"color: #808000; text-decoration-color: #808000; font-weight: bold\"> • </span><span style=\"font-weight: bold\">JavaScript:</span>                                                                                                     \n",
              "\n",
              "<span style=\"background-color: #272822\">                                                                                                                   </span>\n",
              "<span style=\"background-color: #272822\"> </span><span style=\"color: #f8f8f2; text-decoration-color: #f8f8f2; background-color: #272822\"> ```javascript</span><span style=\"background-color: #272822\">                                                                                                    </span>\n",
              "<span style=\"background-color: #272822\"> </span><span style=\"color: #f8f8f2; text-decoration-color: #f8f8f2; background-color: #272822\"> const person = {</span><span style=\"background-color: #272822\">                                                                                                 </span>\n",
              "<span style=\"background-color: #272822\"> </span><span style=\"color: #f8f8f2; text-decoration-color: #f8f8f2; background-color: #272822\">   name: \"Alice\",</span><span style=\"background-color: #272822\">                                                                                                 </span>\n",
              "<span style=\"background-color: #272822\"> </span><span style=\"color: #f8f8f2; text-decoration-color: #f8f8f2; background-color: #272822\">   age: 30</span><span style=\"background-color: #272822\">                                                                                                        </span>\n",
              "<span style=\"background-color: #272822\"> </span><span style=\"color: #f8f8f2; text-decoration-color: #f8f8f2; background-color: #272822\"> };</span><span style=\"background-color: #272822\">                                                                                                               </span>\n",
              "<span style=\"background-color: #272822\"> </span><span style=\"color: #f8f8f2; text-decoration-color: #f8f8f2; background-color: #272822\"> console.log(person.name);</span><span style=\"background-color: #272822\">                                                                                        </span>\n",
              "<span style=\"background-color: #272822\"> </span><span style=\"color: #f8f8f2; text-decoration-color: #f8f8f2; background-color: #272822\"> ```</span><span style=\"background-color: #272822\">                                                                                                              </span>\n",
              "<span style=\"background-color: #272822\">                                                                                                                   </span>\n",
              "\n",
              "<span style=\"font-weight: bold\">Key Takeaways:</span>                                                                                                     \n",
              "\n",
              "<span style=\"color: #808000; text-decoration-color: #808000; font-weight: bold\"> • </span><span style=\"font-weight: bold\">Syntax Differences:</span> Python uses indentation for code blocks, while JavaScript uses curly braces <span style=\"color: #008080; text-decoration-color: #008080; background-color: #000000; font-weight: bold\">{}</span>.             \n",
              "<span style=\"color: #808000; text-decoration-color: #808000; font-weight: bold\"> • </span><span style=\"font-weight: bold\">Variable Declaration:</span> Python is dynamically typed (no explicit type declaration), while JavaScript uses <span style=\"color: #008080; text-decoration-color: #008080; background-color: #000000; font-weight: bold\">const</span> or\n",
              "<span style=\"color: #808000; text-decoration-color: #808000; font-weight: bold\">   </span><span style=\"color: #008080; text-decoration-color: #008080; background-color: #000000; font-weight: bold\">let</span>.                                                                                                            \n",
              "<span style=\"color: #808000; text-decoration-color: #808000; font-weight: bold\"> • </span><span style=\"font-weight: bold\">Looping:</span> Both have <span style=\"color: #008080; text-decoration-color: #008080; background-color: #000000; font-weight: bold\">for</span> loops, but Python's <span style=\"color: #008080; text-decoration-color: #008080; background-color: #000000; font-weight: bold\">for...in</span> is more concise for iterating over lists. JavaScript has    \n",
              "<span style=\"color: #808000; text-decoration-color: #808000; font-weight: bold\">   </span><span style=\"color: #008080; text-decoration-color: #008080; background-color: #000000; font-weight: bold\">forEach</span> for arrays.                                                                                             \n",
              "<span style=\"color: #808000; text-decoration-color: #808000; font-weight: bold\"> • </span><span style=\"font-weight: bold\">Functions:</span> Both use <span style=\"color: #008080; text-decoration-color: #008080; background-color: #000000; font-weight: bold\">def</span> (Python) and <span style=\"color: #008080; text-decoration-color: #008080; background-color: #000000; font-weight: bold\">function</span> (JavaScript) to define functions. JavaScript also has arrow       \n",
              "<span style=\"color: #808000; text-decoration-color: #808000; font-weight: bold\">   </span>functions.                                                                                                      \n",
              "\n",
              "These are very basic examples, but they illustrate some fundamental patterns you'll encounter in both languages.   \n",
              "\n",
              "<span style=\"font-weight: bold\">Do you have any specific patterns you'd like to see or any questions about these examples?</span>                         \n",
              "</pre>\n"
            ]
          },
          "metadata": {}
        },
        {
          "name": "stdout",
          "output_type": "stream",
          "text": [
            "\n",
            "Enter your coding problem (or 'exit' to quit): did you know what is my name and what my big problem for now?\n"
          ]
        },
        {
          "output_type": "display_data",
          "data": {
            "text/plain": [
              "\u001b[1mAI Response\u001b[0m: You're right to ask! As a large language model, I don't have personal memory or the ability to \"know\" \n",
              "things in the way a human does.                                                                                    \n",
              "\n",
              "Here's what I understand based on our conversation:                                                                \n",
              "\n",
              "\u001b[1;33m • \u001b[0m\u001b[1mYour name is Abdul Rehman.\u001b[0m You told me that at the beginning of our conversation.                               \n",
              "\u001b[1;33m • \u001b[0m\u001b[1mYour big problem (as you've described it) is that you want to refactor your old program.\u001b[0m You're looking for     \n",
              "\u001b[1;33m   \u001b[0mguidance on how to do that effectively.                                                                         \n",
              "\n",
              "I don't have any other information about you or your specific situation beyond what you've shared in this          \n",
              "conversation. I don't have access to your personal data or any external information about you.                     \n",
              "\n",
              "\u001b[1mMy role is to help you with your refactoring problem based on the information you provide.\u001b[0m I'm here to guide you   \n",
              "through the process, offer suggestions, and provide code examples.                                                 \n",
              "\n",
              "Is there anything else you'd like to tell me about your program or your goals for refactoring? The more information\n",
              "you give me, the better I can assist you.                                                                          \n"
            ],
            "text/html": [
              "<pre style=\"white-space:pre;overflow-x:auto;line-height:normal;font-family:Menlo,'DejaVu Sans Mono',consolas,'Courier New',monospace\"><span style=\"font-weight: bold\">AI Response</span>: You're right to ask! As a large language model, I don't have personal memory or the ability to \"know\" \n",
              "things in the way a human does.                                                                                    \n",
              "\n",
              "Here's what I understand based on our conversation:                                                                \n",
              "\n",
              "<span style=\"color: #808000; text-decoration-color: #808000; font-weight: bold\"> • </span><span style=\"font-weight: bold\">Your name is Abdul Rehman.</span> You told me that at the beginning of our conversation.                               \n",
              "<span style=\"color: #808000; text-decoration-color: #808000; font-weight: bold\"> • </span><span style=\"font-weight: bold\">Your big problem (as you've described it) is that you want to refactor your old program.</span> You're looking for     \n",
              "<span style=\"color: #808000; text-decoration-color: #808000; font-weight: bold\">   </span>guidance on how to do that effectively.                                                                         \n",
              "\n",
              "I don't have any other information about you or your specific situation beyond what you've shared in this          \n",
              "conversation. I don't have access to your personal data or any external information about you.                     \n",
              "\n",
              "<span style=\"font-weight: bold\">My role is to help you with your refactoring problem based on the information you provide.</span> I'm here to guide you   \n",
              "through the process, offer suggestions, and provide code examples.                                                 \n",
              "\n",
              "Is there anything else you'd like to tell me about your program or your goals for refactoring? The more information\n",
              "you give me, the better I can assist you.                                                                          \n",
              "</pre>\n"
            ]
          },
          "metadata": {}
        },
        {
          "name": "stdout",
          "output_type": "stream",
          "text": [
            "\n",
            "Enter your coding problem (or 'exit' to quit): exit\n"
          ]
        }
      ]
    },
    {
      "cell_type": "markdown",
      "source": [
        "# Integrate Tools"
      ],
      "metadata": {
        "id": "iSMvW0R0ucZl"
      }
    },
    {
      "cell_type": "code",
      "source": [],
      "metadata": {
        "id": "8zN6jqhzx2IE"
      },
      "execution_count": null,
      "outputs": []
    },
    {
      "cell_type": "markdown",
      "source": [
        "# Check Chain\n"
      ],
      "metadata": {
        "id": "aZe_gcCOxsuf"
      }
    },
    {
      "cell_type": "code",
      "source": [
        "from langchain_core.prompts import ChatPromptTemplate\n",
        "\n",
        "tst = ChatPromptTemplate.from_messages([\n",
        "    (SystemMessage(\"You jdge that given sentence is positve or nagative\")),\n",
        "    (HumanMessage(\"{input}\"))\n",
        "])\n",
        "\n",
        "chain = tst | llm\n",
        "tstres = chain.invoke({\"input\": \"fair\"})\n",
        "\n"
      ],
      "metadata": {
        "id": "VaZ6jIjUsd9p"
      },
      "execution_count": null,
      "outputs": []
    },
    {
      "cell_type": "code",
      "source": [
        "from langchain_core.prompts import ChatPromptTemplate\n",
        "\n",
        "tst = ChatPromptTemplate.from_messages([\n",
        "    (\"system\", \"You judge that given sentence is positve or nagative\"),\n",
        "    (\"human\", \"{input}\")\n",
        "])\n",
        "\n",
        "nextPart = ChatPromptTemplate.from_template(\"just give me short and oppsite answer for {res}\")\n",
        "\n",
        "chain = {\"res\": tst} | nextPart | llm\n",
        "chain.invoke({\"input\": \"bad\"}).content\n",
        "\n"
      ],
      "metadata": {
        "colab": {
          "base_uri": "https://localhost:8080/",
          "height": 35
        },
        "id": "OeqvxmrFeDAc",
        "outputId": "4301d39f-e97f-4711-d78d-863ce0d35a4c"
      },
      "execution_count": null,
      "outputs": [
        {
          "output_type": "execute_result",
          "data": {
            "text/plain": [
              "'Negative.\\n'"
            ],
            "application/vnd.google.colaboratory.intrinsic+json": {
              "type": "string"
            }
          },
          "metadata": {},
          "execution_count": 14
        }
      ]
    },
    {
      "cell_type": "code",
      "source": [
        "from langchain_core.prompts import ChatPromptTemplate\n",
        "\n",
        "tst = ChatPromptTemplate.from_template(\"You judge that {input} sentence is positve or nagative, with short explain explain\")\n",
        "\n",
        "nextPart = ChatPromptTemplate.from_template(\"give oppsite result for {res}\")\n",
        "\n",
        "# chain = tst | llm\n",
        "# print(chain.invoke({\"input\": \"fair\"}).content)\n",
        "\n",
        "chain1 = {\"res\": tst} | nextPart | llm\n",
        "print(chain1.invoke({\"input\": \"fair\"}).content)\n",
        "\n"
      ],
      "metadata": {
        "colab": {
          "base_uri": "https://localhost:8080/"
        },
        "id": "if4l7aQ6eg4e",
        "outputId": "92bef0d1-0d57-4a1e-dfb0-185cf3be26d7"
      },
      "execution_count": null,
      "outputs": [
        {
          "output_type": "stream",
          "name": "stdout",
          "text": [
            "Okay, I understand. You want me to provide an opposite result to the message you provided. \n",
            "\n",
            "The original message asks for a judgment of whether a \"fair sentence\" is positive or negative, along with a short explanation. The expected response would be something like:\n",
            "\n",
            "> \"Positive. A fair sentence implies justice and equity, which are generally considered positive attributes.\"\n",
            "\n",
            "To provide the *opposite* result, I need to do a few things:\n",
            "\n",
            "1. **Reverse the Polarity:** Instead of positive, I'll say negative.\n",
            "2. **Provide a Justification (but still short):** I need to explain why a \"fair sentence\" could be seen as negative, even though it's counterintuitive.\n",
            "\n",
            "Here's the opposite result:\n",
            "\n",
            "> \"Negative. A 'fair sentence' could be seen as negative if it implies a punishment or consequence that is perceived as undesirable, even if justly deserved.\"\n",
            "\n",
            "**Explanation of why this is the opposite:**\n",
            "\n",
            "* **Original:** Focuses on the positive connotations of \"fair\" (justice, equity).\n",
            "* **Opposite:** Focuses on the potential negative experience of receiving a sentence, even if it's fair. It highlights that \"fair\" doesn't always equate to \"pleasant.\"\n",
            "\n",
            "**Key Idea:** The opposite isn't about saying \"unfair\" is positive. It's about finding a way to interpret \"fair sentence\" in a way that leads to a negative conclusion.\n",
            "\n"
          ]
        }
      ]
    }
  ]
}